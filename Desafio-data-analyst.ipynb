{
 "cells": [
  {
   "cell_type": "markdown",
   "id": "8fe18680",
   "metadata": {},
   "source": [
    "# **Desafio Data Analyst - Bitcoin Tweets**"
   ]
  },
  {
   "cell_type": "markdown",
   "id": "6a2f3568",
   "metadata": {},
   "source": [
    "### <a name=indice>**Índice**</a>\n",
    "\n",
    "* [Introdução](#introducao)\n",
    "* [Desenvolvimento - Perfil dos usuários](#desenvolvimento_perfil)\n",
    "* [Conclusão Perfil](#conclusao_perfil)\n",
    "* [Desenvolvimento - Análise de sentimentos](#desenvolvimento_sentimento)\n",
    "* [Conclusão Análise de Sentimentos](#conclusao_sentimento)\n"
   ]
  },
  {
   "cell_type": "markdown",
   "id": "44155cc3",
   "metadata": {},
   "source": [
    "### <a name=introducao>**Introdução**</a>\n",
    "[Voltar ao índice](#indice)"
   ]
  },
  {
   "cell_type": "markdown",
   "id": "555ae69a",
   "metadata": {},
   "source": [
    "De acordo com o próprio Twitter, o objetivo da rede social é ser um serviço aberto que promove a conversa pública. \n",
    "<br>A ideia desse trabalho é utilizar uma base contendo dados dessas conversas públicas relacionados ao Bitcoin e extrair informações que nos ajudem a entender os seguintes pontos:\n",
    "<br>\n",
    "* Qual o perfil dos usuários que falam sobre Bitcoin;\n",
    "* Fazer uma análise de sentimento desses tweets, para saber se as pessoas possuem uma percepção positiva ou negativa sobre essa criptomoeda."
   ]
  },
  {
   "cell_type": "markdown",
   "id": "1d5a145b",
   "metadata": {},
   "source": [
    "A Base que será utilizada é um arquivo CSV que já trás conversas relacionadas ao Bitcoin e está disponível em [www.kaggle.com](https://www.kaggle.com/datasets/226bc93769b5b28697eb8fc4a107040b3145c01640c91c16bde8424170f2820e?resource=download) com o nome Bitcoin_tweets."
   ]
  },
  {
   "cell_type": "markdown",
   "id": "35c9959e",
   "metadata": {},
   "source": [
    "### <a name=desenvolvimento_perfil>**Desenvolvimento - Perfil dos usuários**</a>\n",
    "[Voltar ao índice](#indice)"
   ]
  },
  {
   "cell_type": "markdown",
   "id": "610b9e20",
   "metadata": {},
   "source": [
    "Para iniciar o estudo, serão importadas as bibliotecas que serão utilizadas e a base de dados."
   ]
  },
  {
   "cell_type": "markdown",
   "id": "a0db4cf2-0c54-4f91-b67f-229569233cdd",
   "metadata": {},
   "source": [
    "#### **Bibliotecas**"
   ]
  },
  {
   "cell_type": "code",
   "execution_count": 1,
   "id": "736ee0f0",
   "metadata": {},
   "outputs": [],
   "source": [
    "import pandas as pd\n",
    "import numpy as np\n",
    "import collections\n",
    "import warnings\n",
    "import re\n",
    "from textblob import TextBlob\n",
    "import matplotlib.pyplot as plt\n",
    "\n",
    "###Para funcionamento do textblob instalar:\n",
    "### pip install -U textblob\n",
    "### python -m textblob.download_corpora\n",
    "\n",
    "###Configuração para que o pandas todas as colunas e linhas do dataframe e os dados float com 2 casas decimais \n",
    "pd.set_option('display.max_columns', None,'display.max_rows',None,'display.float_format', lambda x: '%.2f' % x)"
   ]
  },
  {
   "cell_type": "code",
   "execution_count": 2,
   "id": "7cd8b5f7-426c-4204-9711-9dc59785115d",
   "metadata": {},
   "outputs": [],
   "source": [
    "df = pd.read_csv('Bitcoin_tweets.csv', low_memory=False)"
   ]
  },
  {
   "cell_type": "markdown",
   "id": "8907a00d-41dc-44fe-8065-fd8c8a8e1a60",
   "metadata": {},
   "source": [
    "<br>\n",
    "Em primeiro lugar, vamos observar algumas linhas da base e quantas linhas e colunas ela possui.\n",
    "<br>"
   ]
  },
  {
   "cell_type": "code",
   "execution_count": 3,
   "id": "dadab21f-c9b7-4920-a301-15a47aaeb75e",
   "metadata": {},
   "outputs": [
    {
     "data": {
      "text/html": [
       "<div>\n",
       "<style scoped>\n",
       "    .dataframe tbody tr th:only-of-type {\n",
       "        vertical-align: middle;\n",
       "    }\n",
       "\n",
       "    .dataframe tbody tr th {\n",
       "        vertical-align: top;\n",
       "    }\n",
       "\n",
       "    .dataframe thead th {\n",
       "        text-align: right;\n",
       "    }\n",
       "</style>\n",
       "<table border=\"1\" class=\"dataframe\">\n",
       "  <thead>\n",
       "    <tr style=\"text-align: right;\">\n",
       "      <th></th>\n",
       "      <th>user_name</th>\n",
       "      <th>user_location</th>\n",
       "      <th>user_description</th>\n",
       "      <th>user_created</th>\n",
       "      <th>user_followers</th>\n",
       "      <th>user_friends</th>\n",
       "      <th>user_favourites</th>\n",
       "      <th>user_verified</th>\n",
       "      <th>date</th>\n",
       "      <th>text</th>\n",
       "      <th>hashtags</th>\n",
       "      <th>source</th>\n",
       "      <th>is_retweet</th>\n",
       "    </tr>\n",
       "  </thead>\n",
       "  <tbody>\n",
       "    <tr>\n",
       "      <th>0</th>\n",
       "      <td>DeSota Wilson</td>\n",
       "      <td>Atlanta, GA</td>\n",
       "      <td>Biz Consultant, real estate, fintech, startups...</td>\n",
       "      <td>2009-04-26 20:05:09</td>\n",
       "      <td>8534.0</td>\n",
       "      <td>7605</td>\n",
       "      <td>4838</td>\n",
       "      <td>False</td>\n",
       "      <td>2021-02-10 23:59:04</td>\n",
       "      <td>Blue Ridge Bank shares halted by NYSE after #b...</td>\n",
       "      <td>['bitcoin']</td>\n",
       "      <td>Twitter Web App</td>\n",
       "      <td>False</td>\n",
       "    </tr>\n",
       "    <tr>\n",
       "      <th>1</th>\n",
       "      <td>CryptoND</td>\n",
       "      <td>NaN</td>\n",
       "      <td>😎 BITCOINLIVE is a Dutch platform aimed at inf...</td>\n",
       "      <td>2019-10-17 20:12:10</td>\n",
       "      <td>6769.0</td>\n",
       "      <td>1532</td>\n",
       "      <td>25483</td>\n",
       "      <td>False</td>\n",
       "      <td>2021-02-10 23:58:48</td>\n",
       "      <td>😎 Today, that's this #Thursday, we will do a \"...</td>\n",
       "      <td>['Thursday', 'Btc', 'wallet', 'security']</td>\n",
       "      <td>Twitter for Android</td>\n",
       "      <td>False</td>\n",
       "    </tr>\n",
       "    <tr>\n",
       "      <th>2</th>\n",
       "      <td>Tdlmatias</td>\n",
       "      <td>London, England</td>\n",
       "      <td>IM Academy : The best #forex, #SelfEducation, ...</td>\n",
       "      <td>2014-11-10 10:50:37</td>\n",
       "      <td>128.0</td>\n",
       "      <td>332</td>\n",
       "      <td>924</td>\n",
       "      <td>False</td>\n",
       "      <td>2021-02-10 23:54:48</td>\n",
       "      <td>Guys evening, I have read this article about B...</td>\n",
       "      <td>NaN</td>\n",
       "      <td>Twitter Web App</td>\n",
       "      <td>False</td>\n",
       "    </tr>\n",
       "    <tr>\n",
       "      <th>3</th>\n",
       "      <td>Crypto is the future</td>\n",
       "      <td>NaN</td>\n",
       "      <td>I will post a lot of buying signals for BTC tr...</td>\n",
       "      <td>2019-09-28 16:48:12</td>\n",
       "      <td>625.0</td>\n",
       "      <td>129</td>\n",
       "      <td>14</td>\n",
       "      <td>False</td>\n",
       "      <td>2021-02-10 23:54:33</td>\n",
       "      <td>$BTC A big chance in a billion! Price: \\487264...</td>\n",
       "      <td>['Bitcoin', 'FX', 'BTC', 'crypto']</td>\n",
       "      <td>dlvr.it</td>\n",
       "      <td>False</td>\n",
       "    </tr>\n",
       "    <tr>\n",
       "      <th>4</th>\n",
       "      <td>Alex Kirchmaier 🇦🇹🇸🇪 #FactsSuperspreader</td>\n",
       "      <td>Europa</td>\n",
       "      <td>Co-founder @RENJERJerky | Forbes 30Under30 | I...</td>\n",
       "      <td>2016-02-03 13:15:55</td>\n",
       "      <td>1249.0</td>\n",
       "      <td>1472</td>\n",
       "      <td>10482</td>\n",
       "      <td>False</td>\n",
       "      <td>2021-02-10 23:54:06</td>\n",
       "      <td>This network is secured by 9 508 nodes as of t...</td>\n",
       "      <td>['BTC']</td>\n",
       "      <td>Twitter Web App</td>\n",
       "      <td>False</td>\n",
       "    </tr>\n",
       "  </tbody>\n",
       "</table>\n",
       "</div>"
      ],
      "text/plain": [
       "                                  user_name    user_location  \\\n",
       "0                             DeSota Wilson      Atlanta, GA   \n",
       "1                                  CryptoND              NaN   \n",
       "2                                 Tdlmatias  London, England   \n",
       "3                      Crypto is the future              NaN   \n",
       "4  Alex Kirchmaier 🇦🇹🇸🇪 #FactsSuperspreader           Europa   \n",
       "\n",
       "                                    user_description         user_created  \\\n",
       "0  Biz Consultant, real estate, fintech, startups...  2009-04-26 20:05:09   \n",
       "1  😎 BITCOINLIVE is a Dutch platform aimed at inf...  2019-10-17 20:12:10   \n",
       "2  IM Academy : The best #forex, #SelfEducation, ...  2014-11-10 10:50:37   \n",
       "3  I will post a lot of buying signals for BTC tr...  2019-09-28 16:48:12   \n",
       "4  Co-founder @RENJERJerky | Forbes 30Under30 | I...  2016-02-03 13:15:55   \n",
       "\n",
       "  user_followers user_friends user_favourites user_verified  \\\n",
       "0         8534.0         7605            4838         False   \n",
       "1         6769.0         1532           25483         False   \n",
       "2          128.0          332             924         False   \n",
       "3          625.0          129              14         False   \n",
       "4         1249.0         1472           10482         False   \n",
       "\n",
       "                  date                                               text  \\\n",
       "0  2021-02-10 23:59:04  Blue Ridge Bank shares halted by NYSE after #b...   \n",
       "1  2021-02-10 23:58:48  😎 Today, that's this #Thursday, we will do a \"...   \n",
       "2  2021-02-10 23:54:48  Guys evening, I have read this article about B...   \n",
       "3  2021-02-10 23:54:33  $BTC A big chance in a billion! Price: \\487264...   \n",
       "4  2021-02-10 23:54:06  This network is secured by 9 508 nodes as of t...   \n",
       "\n",
       "                                    hashtags               source is_retweet  \n",
       "0                                ['bitcoin']      Twitter Web App      False  \n",
       "1  ['Thursday', 'Btc', 'wallet', 'security']  Twitter for Android      False  \n",
       "2                                        NaN      Twitter Web App      False  \n",
       "3         ['Bitcoin', 'FX', 'BTC', 'crypto']              dlvr.it      False  \n",
       "4                                    ['BTC']      Twitter Web App      False  "
      ]
     },
     "execution_count": 3,
     "metadata": {},
     "output_type": "execute_result"
    }
   ],
   "source": [
    "df.head()"
   ]
  },
  {
   "cell_type": "code",
   "execution_count": 4,
   "id": "78bb765c-44f5-46c8-ba46-e5d36c266efe",
   "metadata": {},
   "outputs": [
    {
     "data": {
      "text/plain": [
       "(2830476, 13)"
      ]
     },
     "execution_count": 4,
     "metadata": {},
     "output_type": "execute_result"
    }
   ],
   "source": [
    "df.shape"
   ]
  },
  {
   "cell_type": "markdown",
   "id": "af65f42f-5fff-47a3-bb4d-0c3974568220",
   "metadata": {},
   "source": [
    "<br>\n",
    "A base possui 13 colunas e 2.830.476 linhas.\n",
    "<br>Vamos agora observar os tipos de dados de cada coluna e em seguida transforma-los em formatos mais apropriados.\n",
    "<br><br>"
   ]
  },
  {
   "cell_type": "code",
   "execution_count": 5,
   "id": "516988d8-8165-4862-b31c-ff0dc3218373",
   "metadata": {},
   "outputs": [
    {
     "data": {
      "text/plain": [
       "user_name           object\n",
       "user_location       object\n",
       "user_description    object\n",
       "user_created        object\n",
       "user_followers      object\n",
       "user_friends        object\n",
       "user_favourites     object\n",
       "user_verified       object\n",
       "date                object\n",
       "text                object\n",
       "hashtags            object\n",
       "source              object\n",
       "is_retweet          object\n",
       "dtype: object"
      ]
     },
     "execution_count": 5,
     "metadata": {},
     "output_type": "execute_result"
    }
   ],
   "source": [
    "df.dtypes"
   ]
  },
  {
   "cell_type": "code",
   "execution_count": 6,
   "id": "694b7d03-5178-4b57-82f0-a13b4f2b3c15",
   "metadata": {},
   "outputs": [],
   "source": [
    "df['user_created']=pd.to_datetime(df['user_created'],errors='coerce')\n",
    "df['date']=pd.to_datetime(df['date'],errors='coerce')"
   ]
  },
  {
   "cell_type": "code",
   "execution_count": 7,
   "id": "09bdad7f-3cfb-42ae-abd7-542fa2e8095a",
   "metadata": {},
   "outputs": [],
   "source": [
    "numeros=['user_followers','user_friends','user_favourites']\n",
    "for colunas in numeros:\n",
    "    df[colunas]=pd.to_numeric(df[colunas], errors='coerce')"
   ]
  },
  {
   "cell_type": "code",
   "execution_count": 8,
   "id": "9df5baf1-83bb-45f8-964f-9c73f174c9c4",
   "metadata": {},
   "outputs": [],
   "source": [
    "df['user_verified']=df['user_verified'].astype('category')\n",
    "df['is_retweet']=df['is_retweet'].astype('category')"
   ]
  },
  {
   "cell_type": "code",
   "execution_count": 9,
   "id": "60813fb5-aba4-400d-b8eb-1f2e7949a94c",
   "metadata": {},
   "outputs": [
    {
     "data": {
      "text/plain": [
       "user_name                   object\n",
       "user_location               object\n",
       "user_description            object\n",
       "user_created        datetime64[ns]\n",
       "user_followers             float64\n",
       "user_friends               float64\n",
       "user_favourites            float64\n",
       "user_verified             category\n",
       "date                datetime64[ns]\n",
       "text                        object\n",
       "hashtags                    object\n",
       "source                      object\n",
       "is_retweet                category\n",
       "dtype: object"
      ]
     },
     "execution_count": 9,
     "metadata": {},
     "output_type": "execute_result"
    }
   ],
   "source": [
    "df.dtypes"
   ]
  },
  {
   "cell_type": "code",
   "execution_count": 10,
   "id": "f6b961a0-98d7-403a-8e4e-ff74ef3ce985",
   "metadata": {},
   "outputs": [
    {
     "data": {
      "text/html": [
       "<div>\n",
       "<style scoped>\n",
       "    .dataframe tbody tr th:only-of-type {\n",
       "        vertical-align: middle;\n",
       "    }\n",
       "\n",
       "    .dataframe tbody tr th {\n",
       "        vertical-align: top;\n",
       "    }\n",
       "\n",
       "    .dataframe thead th {\n",
       "        text-align: right;\n",
       "    }\n",
       "</style>\n",
       "<table border=\"1\" class=\"dataframe\">\n",
       "  <thead>\n",
       "    <tr style=\"text-align: right;\">\n",
       "      <th></th>\n",
       "      <th>user_name</th>\n",
       "      <th>user_location</th>\n",
       "      <th>user_description</th>\n",
       "      <th>user_created</th>\n",
       "      <th>user_followers</th>\n",
       "      <th>user_friends</th>\n",
       "      <th>user_favourites</th>\n",
       "      <th>user_verified</th>\n",
       "      <th>date</th>\n",
       "      <th>text</th>\n",
       "      <th>hashtags</th>\n",
       "      <th>source</th>\n",
       "      <th>is_retweet</th>\n",
       "    </tr>\n",
       "  </thead>\n",
       "  <tbody>\n",
       "    <tr>\n",
       "      <th>count</th>\n",
       "      <td>2830445</td>\n",
       "      <td>1426930</td>\n",
       "      <td>2477796</td>\n",
       "      <td>2830323</td>\n",
       "      <td>2830337.00</td>\n",
       "      <td>2830323.00</td>\n",
       "      <td>2830324.00</td>\n",
       "      <td>2830338</td>\n",
       "      <td>2830323</td>\n",
       "      <td>2830338</td>\n",
       "      <td>2813293</td>\n",
       "      <td>2826722</td>\n",
       "      <td>2830035</td>\n",
       "    </tr>\n",
       "    <tr>\n",
       "      <th>unique</th>\n",
       "      <td>443138</td>\n",
       "      <td>72343</td>\n",
       "      <td>440374</td>\n",
       "      <td>NaN</td>\n",
       "      <td>NaN</td>\n",
       "      <td>NaN</td>\n",
       "      <td>NaN</td>\n",
       "      <td>17</td>\n",
       "      <td>NaN</td>\n",
       "      <td>2765188</td>\n",
       "      <td>643625</td>\n",
       "      <td>2151</td>\n",
       "      <td>1</td>\n",
       "    </tr>\n",
       "    <tr>\n",
       "      <th>top</th>\n",
       "      <td>Hoba Bot</td>\n",
       "      <td>United States</td>\n",
       "      <td>Market analysis &amp; recaps, scalping leverage ca...</td>\n",
       "      <td>NaN</td>\n",
       "      <td>NaN</td>\n",
       "      <td>NaN</td>\n",
       "      <td>NaN</td>\n",
       "      <td>False</td>\n",
       "      <td>NaN</td>\n",
       "      <td>💸 Earn free #BTC and multiply crypto up to 15%...</td>\n",
       "      <td>['Bitcoin']</td>\n",
       "      <td>Twitter for Android</td>\n",
       "      <td>False</td>\n",
       "    </tr>\n",
       "    <tr>\n",
       "      <th>freq</th>\n",
       "      <td>13137</td>\n",
       "      <td>33999</td>\n",
       "      <td>18887</td>\n",
       "      <td>NaN</td>\n",
       "      <td>NaN</td>\n",
       "      <td>NaN</td>\n",
       "      <td>NaN</td>\n",
       "      <td>2811674</td>\n",
       "      <td>NaN</td>\n",
       "      <td>1304</td>\n",
       "      <td>358178</td>\n",
       "      <td>850008</td>\n",
       "      <td>2830035</td>\n",
       "    </tr>\n",
       "    <tr>\n",
       "      <th>mean</th>\n",
       "      <td>NaN</td>\n",
       "      <td>NaN</td>\n",
       "      <td>NaN</td>\n",
       "      <td>2018-06-07 14:33:21.719369984</td>\n",
       "      <td>8225.36</td>\n",
       "      <td>1198.51</td>\n",
       "      <td>6580.72</td>\n",
       "      <td>NaN</td>\n",
       "      <td>2021-10-22 17:11:43.288933376</td>\n",
       "      <td>NaN</td>\n",
       "      <td>NaN</td>\n",
       "      <td>NaN</td>\n",
       "      <td>NaN</td>\n",
       "    </tr>\n",
       "    <tr>\n",
       "      <th>min</th>\n",
       "      <td>NaN</td>\n",
       "      <td>NaN</td>\n",
       "      <td>NaN</td>\n",
       "      <td>1970-01-01 00:00:00</td>\n",
       "      <td>0.00</td>\n",
       "      <td>0.00</td>\n",
       "      <td>0.00</td>\n",
       "      <td>NaN</td>\n",
       "      <td>2021-02-05 10:52:04</td>\n",
       "      <td>NaN</td>\n",
       "      <td>NaN</td>\n",
       "      <td>NaN</td>\n",
       "      <td>NaN</td>\n",
       "    </tr>\n",
       "    <tr>\n",
       "      <th>25%</th>\n",
       "      <td>NaN</td>\n",
       "      <td>NaN</td>\n",
       "      <td>NaN</td>\n",
       "      <td>2016-01-06 17:56:37</td>\n",
       "      <td>45.00</td>\n",
       "      <td>55.00</td>\n",
       "      <td>86.00</td>\n",
       "      <td>NaN</td>\n",
       "      <td>2021-07-30 17:24:05.500000</td>\n",
       "      <td>NaN</td>\n",
       "      <td>NaN</td>\n",
       "      <td>NaN</td>\n",
       "      <td>NaN</td>\n",
       "    </tr>\n",
       "    <tr>\n",
       "      <th>50%</th>\n",
       "      <td>NaN</td>\n",
       "      <td>NaN</td>\n",
       "      <td>NaN</td>\n",
       "      <td>2020-06-02 05:21:16</td>\n",
       "      <td>205.00</td>\n",
       "      <td>235.00</td>\n",
       "      <td>712.00</td>\n",
       "      <td>NaN</td>\n",
       "      <td>2021-10-22 10:34:14</td>\n",
       "      <td>NaN</td>\n",
       "      <td>NaN</td>\n",
       "      <td>NaN</td>\n",
       "      <td>NaN</td>\n",
       "    </tr>\n",
       "    <tr>\n",
       "      <th>75%</th>\n",
       "      <td>NaN</td>\n",
       "      <td>NaN</td>\n",
       "      <td>NaN</td>\n",
       "      <td>2021-05-27 07:48:28</td>\n",
       "      <td>1227.00</td>\n",
       "      <td>807.00</td>\n",
       "      <td>3826.00</td>\n",
       "      <td>NaN</td>\n",
       "      <td>2022-01-14 22:00:26</td>\n",
       "      <td>NaN</td>\n",
       "      <td>NaN</td>\n",
       "      <td>NaN</td>\n",
       "      <td>NaN</td>\n",
       "    </tr>\n",
       "    <tr>\n",
       "      <th>max</th>\n",
       "      <td>NaN</td>\n",
       "      <td>NaN</td>\n",
       "      <td>NaN</td>\n",
       "      <td>2022-04-16 21:54:50</td>\n",
       "      <td>24131346.00</td>\n",
       "      <td>4201104.00</td>\n",
       "      <td>1248517.00</td>\n",
       "      <td>NaN</td>\n",
       "      <td>2022-04-16 23:59:51</td>\n",
       "      <td>NaN</td>\n",
       "      <td>NaN</td>\n",
       "      <td>NaN</td>\n",
       "      <td>NaN</td>\n",
       "    </tr>\n",
       "    <tr>\n",
       "      <th>std</th>\n",
       "      <td>NaN</td>\n",
       "      <td>NaN</td>\n",
       "      <td>NaN</td>\n",
       "      <td>NaN</td>\n",
       "      <td>104730.03</td>\n",
       "      <td>7185.96</td>\n",
       "      <td>21247.95</td>\n",
       "      <td>NaN</td>\n",
       "      <td>NaN</td>\n",
       "      <td>NaN</td>\n",
       "      <td>NaN</td>\n",
       "      <td>NaN</td>\n",
       "      <td>NaN</td>\n",
       "    </tr>\n",
       "  </tbody>\n",
       "</table>\n",
       "</div>"
      ],
      "text/plain": [
       "       user_name  user_location  \\\n",
       "count    2830445        1426930   \n",
       "unique    443138          72343   \n",
       "top     Hoba Bot  United States   \n",
       "freq       13137          33999   \n",
       "mean         NaN            NaN   \n",
       "min          NaN            NaN   \n",
       "25%          NaN            NaN   \n",
       "50%          NaN            NaN   \n",
       "75%          NaN            NaN   \n",
       "max          NaN            NaN   \n",
       "std          NaN            NaN   \n",
       "\n",
       "                                         user_description  \\\n",
       "count                                             2477796   \n",
       "unique                                             440374   \n",
       "top     Market analysis & recaps, scalping leverage ca...   \n",
       "freq                                                18887   \n",
       "mean                                                  NaN   \n",
       "min                                                   NaN   \n",
       "25%                                                   NaN   \n",
       "50%                                                   NaN   \n",
       "75%                                                   NaN   \n",
       "max                                                   NaN   \n",
       "std                                                   NaN   \n",
       "\n",
       "                         user_created  user_followers  user_friends  \\\n",
       "count                         2830323      2830337.00    2830323.00   \n",
       "unique                            NaN             NaN           NaN   \n",
       "top                               NaN             NaN           NaN   \n",
       "freq                              NaN             NaN           NaN   \n",
       "mean    2018-06-07 14:33:21.719369984         8225.36       1198.51   \n",
       "min               1970-01-01 00:00:00            0.00          0.00   \n",
       "25%               2016-01-06 17:56:37           45.00         55.00   \n",
       "50%               2020-06-02 05:21:16          205.00        235.00   \n",
       "75%               2021-05-27 07:48:28         1227.00        807.00   \n",
       "max               2022-04-16 21:54:50     24131346.00    4201104.00   \n",
       "std                               NaN       104730.03       7185.96   \n",
       "\n",
       "        user_favourites user_verified                           date  \\\n",
       "count        2830324.00       2830338                        2830323   \n",
       "unique              NaN            17                            NaN   \n",
       "top                 NaN         False                            NaN   \n",
       "freq                NaN       2811674                            NaN   \n",
       "mean            6580.72           NaN  2021-10-22 17:11:43.288933376   \n",
       "min                0.00           NaN            2021-02-05 10:52:04   \n",
       "25%               86.00           NaN     2021-07-30 17:24:05.500000   \n",
       "50%              712.00           NaN            2021-10-22 10:34:14   \n",
       "75%             3826.00           NaN            2022-01-14 22:00:26   \n",
       "max          1248517.00           NaN            2022-04-16 23:59:51   \n",
       "std            21247.95           NaN                            NaN   \n",
       "\n",
       "                                                     text     hashtags  \\\n",
       "count                                             2830338      2813293   \n",
       "unique                                            2765188       643625   \n",
       "top     💸 Earn free #BTC and multiply crypto up to 15%...  ['Bitcoin']   \n",
       "freq                                                 1304       358178   \n",
       "mean                                                  NaN          NaN   \n",
       "min                                                   NaN          NaN   \n",
       "25%                                                   NaN          NaN   \n",
       "50%                                                   NaN          NaN   \n",
       "75%                                                   NaN          NaN   \n",
       "max                                                   NaN          NaN   \n",
       "std                                                   NaN          NaN   \n",
       "\n",
       "                     source is_retweet  \n",
       "count               2826722    2830035  \n",
       "unique                 2151          1  \n",
       "top     Twitter for Android      False  \n",
       "freq                 850008    2830035  \n",
       "mean                    NaN        NaN  \n",
       "min                     NaN        NaN  \n",
       "25%                     NaN        NaN  \n",
       "50%                     NaN        NaN  \n",
       "75%                     NaN        NaN  \n",
       "max                     NaN        NaN  \n",
       "std                     NaN        NaN  "
      ]
     },
     "execution_count": 10,
     "metadata": {},
     "output_type": "execute_result"
    }
   ],
   "source": [
    "df.describe(include='all',datetime_is_numeric=True)"
   ]
  },
  {
   "cell_type": "markdown",
   "id": "f65ddcc2-8cb4-42b4-822a-f27268fd87eb",
   "metadata": {},
   "source": [
    "#### **Usuários**"
   ]
  },
  {
   "cell_type": "markdown",
   "id": "63aa7fe9-f7e9-458d-bab7-c90e6b552441",
   "metadata": {},
   "source": [
    "<br>\n",
    "Vamos iniciar a análise observando os dados de usuários. A partir da descrição dos dados, vemos que existem 2.830.445 entradas de nomes de usuários, mas quando observamos o nome mais frequente vemos que esse usuário foi responsável por 13.137 tweets. \n",
    "<br>Vamos avaliar a quantidade de tweets dos usuários que mais postaram e ver quanto esses tweets representam do total. Vamos observar a quantidade de tweets de 20% dos usuários com maior quantidade de mensagens.\n",
    "<br>"
   ]
  },
  {
   "cell_type": "code",
   "execution_count": 11,
   "id": "9a9b149d-ae41-43ef-88d6-94d3abdb54d4",
   "metadata": {
    "tags": []
   },
   "outputs": [],
   "source": [
    "amostra=int(0.2*len(df['user_name'].unique()))"
   ]
  },
  {
   "cell_type": "code",
   "execution_count": 12,
   "id": "a248668b-c5dc-416a-b0d0-392214b8cc0f",
   "metadata": {},
   "outputs": [
    {
     "name": "stdout",
     "output_type": "stream",
     "text": [
      "88627\n"
     ]
    }
   ],
   "source": [
    "print(amostra)"
   ]
  },
  {
   "cell_type": "markdown",
   "id": "f0a8d701-23d8-4aa7-b4ee-e2ebed067fb6",
   "metadata": {},
   "source": [
    "Considerando uma amostra de 88.627 usuários, conseguimos separar a quantidade de tweets de cada um deles."
   ]
  },
  {
   "cell_type": "code",
   "execution_count": 13,
   "id": "420455db-374d-45ad-a6b1-ac21a8c72162",
   "metadata": {},
   "outputs": [],
   "source": [
    "usuarios_ativos=dict(collections.Counter(df['user_name']).most_common(amostra))"
   ]
  },
  {
   "cell_type": "markdown",
   "id": "2ecf31d8-686c-4f7b-ac49-f345c43d37fd",
   "metadata": {},
   "source": [
    "Somando os tweets desses usuários, chegamos no valor abaixo:"
   ]
  },
  {
   "cell_type": "code",
   "execution_count": 14,
   "id": "5004ba13-a48e-490d-9593-2ce8e2f5d1c1",
   "metadata": {},
   "outputs": [],
   "source": [
    "valores=sum(usuarios_ativos.values())"
   ]
  },
  {
   "cell_type": "code",
   "execution_count": 15,
   "id": "2a7df4f8-8ae6-4e8f-8320-32e47d00ca2c",
   "metadata": {},
   "outputs": [
    {
     "name": "stdout",
     "output_type": "stream",
     "text": [
      "2299479\n"
     ]
    }
   ],
   "source": [
    "print(valores)"
   ]
  },
  {
   "cell_type": "markdown",
   "id": "0cc18b4d-f85b-4b4f-b208-461a26b40e66",
   "metadata": {},
   "source": [
    "Dividindo o total de tweets desses usuários pelo total de tweets, chegamos no seguinte valor:"
   ]
  },
  {
   "cell_type": "code",
   "execution_count": 16,
   "id": "ca86a776-17da-48ae-8742-ae685e44518e",
   "metadata": {},
   "outputs": [
    {
     "name": "stdout",
     "output_type": "stream",
     "text": [
      "\n",
      "Esses usuários foram responsáveis por 81.24% dos tweets\n"
     ]
    }
   ],
   "source": [
    "percent=valores/len(df)\n",
    "print(f\"\\nEsses usuários foram responsáveis por {percent*100:.2f}% dos tweets\")"
   ]
  },
  {
   "cell_type": "markdown",
   "id": "915e837d-8e84-436c-8ea9-528921d917cb",
   "metadata": {},
   "source": [
    "Vamos verificar as estatísticas somente desses usuários."
   ]
  },
  {
   "cell_type": "code",
   "execution_count": 17,
   "id": "40a05a31-89a3-4f2e-bc03-a5294a188b84",
   "metadata": {},
   "outputs": [],
   "source": [
    "df_usuarios_ativos=pd.DataFrame(usuarios_ativos.items(), columns=['usuario','quantidade'])"
   ]
  },
  {
   "cell_type": "code",
   "execution_count": 18,
   "id": "7a2dfc90-3879-4c8f-89aa-bd9d42c42b7e",
   "metadata": {},
   "outputs": [
    {
     "data": {
      "text/html": [
       "<div>\n",
       "<style scoped>\n",
       "    .dataframe tbody tr th:only-of-type {\n",
       "        vertical-align: middle;\n",
       "    }\n",
       "\n",
       "    .dataframe tbody tr th {\n",
       "        vertical-align: top;\n",
       "    }\n",
       "\n",
       "    .dataframe thead th {\n",
       "        text-align: right;\n",
       "    }\n",
       "</style>\n",
       "<table border=\"1\" class=\"dataframe\">\n",
       "  <thead>\n",
       "    <tr style=\"text-align: right;\">\n",
       "      <th></th>\n",
       "      <th>usuario</th>\n",
       "      <th>quantidade</th>\n",
       "    </tr>\n",
       "  </thead>\n",
       "  <tbody>\n",
       "    <tr>\n",
       "      <th>0</th>\n",
       "      <td>Hoba Bot</td>\n",
       "      <td>13137</td>\n",
       "    </tr>\n",
       "    <tr>\n",
       "      <th>1</th>\n",
       "      <td>Bitcoin_Whale_Alert</td>\n",
       "      <td>11439</td>\n",
       "    </tr>\n",
       "    <tr>\n",
       "      <th>2</th>\n",
       "      <td>Brett Murphy</td>\n",
       "      <td>11150</td>\n",
       "    </tr>\n",
       "    <tr>\n",
       "      <th>3</th>\n",
       "      <td>ExchangeWhales🐋</td>\n",
       "      <td>10855</td>\n",
       "    </tr>\n",
       "    <tr>\n",
       "      <th>4</th>\n",
       "      <td>BitcoinAgile</td>\n",
       "      <td>10396</td>\n",
       "    </tr>\n",
       "  </tbody>\n",
       "</table>\n",
       "</div>"
      ],
      "text/plain": [
       "               usuario  quantidade\n",
       "0             Hoba Bot       13137\n",
       "1  Bitcoin_Whale_Alert       11439\n",
       "2         Brett Murphy       11150\n",
       "3      ExchangeWhales🐋       10855\n",
       "4         BitcoinAgile       10396"
      ]
     },
     "execution_count": 18,
     "metadata": {},
     "output_type": "execute_result"
    }
   ],
   "source": [
    "df_usuarios_ativos.head()"
   ]
  },
  {
   "cell_type": "code",
   "execution_count": 19,
   "id": "7b7650e1-c344-4632-aa6f-ca857d25c5fc",
   "metadata": {},
   "outputs": [
    {
     "data": {
      "text/html": [
       "<div>\n",
       "<style scoped>\n",
       "    .dataframe tbody tr th:only-of-type {\n",
       "        vertical-align: middle;\n",
       "    }\n",
       "\n",
       "    .dataframe tbody tr th {\n",
       "        vertical-align: top;\n",
       "    }\n",
       "\n",
       "    .dataframe thead th {\n",
       "        text-align: right;\n",
       "    }\n",
       "</style>\n",
       "<table border=\"1\" class=\"dataframe\">\n",
       "  <thead>\n",
       "    <tr style=\"text-align: right;\">\n",
       "      <th></th>\n",
       "      <th>quantidade</th>\n",
       "    </tr>\n",
       "  </thead>\n",
       "  <tbody>\n",
       "    <tr>\n",
       "      <th>count</th>\n",
       "      <td>88627.00</td>\n",
       "    </tr>\n",
       "    <tr>\n",
       "      <th>mean</th>\n",
       "      <td>25.95</td>\n",
       "    </tr>\n",
       "    <tr>\n",
       "      <th>std</th>\n",
       "      <td>157.96</td>\n",
       "    </tr>\n",
       "    <tr>\n",
       "      <th>min</th>\n",
       "      <td>4.00</td>\n",
       "    </tr>\n",
       "    <tr>\n",
       "      <th>25%</th>\n",
       "      <td>6.00</td>\n",
       "    </tr>\n",
       "    <tr>\n",
       "      <th>50%</th>\n",
       "      <td>9.00</td>\n",
       "    </tr>\n",
       "    <tr>\n",
       "      <th>75%</th>\n",
       "      <td>18.00</td>\n",
       "    </tr>\n",
       "    <tr>\n",
       "      <th>max</th>\n",
       "      <td>13137.00</td>\n",
       "    </tr>\n",
       "  </tbody>\n",
       "</table>\n",
       "</div>"
      ],
      "text/plain": [
       "       quantidade\n",
       "count    88627.00\n",
       "mean        25.95\n",
       "std        157.96\n",
       "min          4.00\n",
       "25%          6.00\n",
       "50%          9.00\n",
       "75%         18.00\n",
       "max      13137.00"
      ]
     },
     "execution_count": 19,
     "metadata": {},
     "output_type": "execute_result"
    }
   ],
   "source": [
    "df_usuarios_ativos.describe()"
   ]
  },
  {
   "cell_type": "markdown",
   "id": "65e00409-6809-4a53-b1bd-8ce0a7519dc4",
   "metadata": {},
   "source": [
    "Apenas para ilustrar a representatividade, vamos observar o top 50 usuários com mais tweets."
   ]
  },
  {
   "cell_type": "code",
   "execution_count": 20,
   "id": "7d1d103f-1c87-4d4d-b071-6c1bcdac3b2c",
   "metadata": {},
   "outputs": [],
   "source": [
    "top_50_usuarios=dict(collections.Counter(df['user_name']).most_common(50))"
   ]
  },
  {
   "cell_type": "code",
   "execution_count": 21,
   "id": "963dc55c-dc73-449d-9100-b9959cc8bf67",
   "metadata": {},
   "outputs": [
    {
     "name": "stdout",
     "output_type": "stream",
     "text": [
      "{'Hoba Bot': 13137, 'Bitcoin_Whale_Alert': 11439, 'Brett Murphy': 11150, 'ExchangeWhales🐋': 10855, 'BitcoinAgile': 10396, 'Live Price Crypto': 8901, 'Bitcoin updates': 8767, 'CoinOK': 7708, 'Cryptocurrency prices (real-time)': 7088, 'tictoknextblock': 7032, 'DYOR.net': 6993, 'brettmurphynet': 6322, 'Crypto Volume': 6215, 'BlockScan': 5955, 'Volume Alerts': 5734, '#Help Me Pay My Bills': 5576, 'Bitswings': 5366, 'Whale Transactions': 5311, 'ali barrera': 5073, 'Bitcoin Price': 4953, 'BEARWHALE 🐳': 4759, 'CryptoSquawk': 4694, 'CryptoCharts': 4669, 'ClankApp - Crypto Whales Tracker 🐳': 4579, 'MTN': 4436, 'WhaleTrades 🐳': 4399, 'BitcoinTracker': 4395, 'Job Preference': 4080, 'DYOR.net Dev & Bot': 3977, 'इंडिया क्रिप्टोक्यूरेंसी बिटकाइन': 3754, 'Bitcoin⚡️': 3737, 'BetFast.com': 3727, 'Mempool Whales 🐋': 3616, 'BTC情報アラート📊': 3577, 'MarketCharts': 3495, '₿itcoin Bot🤖': 3384, 'crypto&NFT&Metaverse news': 3343, 'Everything crypto': 3323, 'Bitcoin Bot🤖': 3280, 'thinkmoon.io 🇺🇦🇺🇦| Latest crypto trends & news': 3254, 'BTCtoCAD Blockchain Explorer': 3187, 'Crypto Price Postings': 3050, 'MBrae': 3026, 'Successful Trading News': 2977, 'Wee Blue Ghost': 2857, 'Pompcoin': 2841, 'Stock Market News - Bot': 2793, 'Bitcoin': 2774, 'AutoCrypto Bot': 2724, 'DTM': 2722}\n"
     ]
    }
   ],
   "source": [
    "print(top_50_usuarios)"
   ]
  },
  {
   "cell_type": "code",
   "execution_count": 22,
   "id": "86e0a24c-4677-4dca-8072-6ac309743414",
   "metadata": {},
   "outputs": [],
   "source": [
    "df_top_50=pd.DataFrame(top_50_usuarios.items(), columns=['usuarios','quantidade'])"
   ]
  },
  {
   "cell_type": "code",
   "execution_count": 23,
   "id": "7d3c4666-1981-4504-9653-d9c2efffb834",
   "metadata": {},
   "outputs": [
    {
     "data": {
      "image/png": "[encoded data removed]",
      "text/plain": [
       "<Figure size 1080x504 with 1 Axes>"
      ]
     },
     "metadata": {
      "needs_background": "light"
     },
     "output_type": "display_data"
    }
   ],
   "source": [
    "warnings.filterwarnings('ignore')\n",
    "plt.figure(figsize=(15,7))\n",
    "plt.bar(df_top_50['usuarios'], df_top_50['quantidade'])\n",
    "plt.xticks(rotation=90)\n",
    "plt.show()"
   ]
  },
  {
   "cell_type": "markdown",
   "id": "4e0ad85a-6353-419d-881d-2ef49c2c7cf2",
   "metadata": {},
   "source": [
    "#### **Localidade**"
   ]
  },
  {
   "cell_type": "markdown",
   "id": "ccc32164-7dd9-4754-a54b-602d3ea1a8e5",
   "metadata": {},
   "source": [
    "Para avaliar a localidade, vamos primeiro observar os 30 locais mais comuns."
   ]
  },
  {
   "cell_type": "code",
   "execution_count": 24,
   "id": "d2d770c7-7c52-4ba1-9935-f72b4d29a91b",
   "metadata": {},
   "outputs": [],
   "source": [
    "localidades=dict(collections.Counter(df['user_location']).most_common(30))"
   ]
  },
  {
   "cell_type": "code",
   "execution_count": 25,
   "id": "a9123d3b-284d-4ace-9da4-8568cf82dabe",
   "metadata": {},
   "outputs": [
    {
     "data": {
      "text/plain": [
       "1757509"
      ]
     },
     "execution_count": 25,
     "metadata": {},
     "output_type": "execute_result"
    }
   ],
   "source": [
    "sum(localidades.values())"
   ]
  },
  {
   "cell_type": "code",
   "execution_count": 26,
   "id": "01c4134e-65cf-4fc0-92be-7acb130dbd23",
   "metadata": {},
   "outputs": [
    {
     "data": {
      "text/plain": [
       "{nan: 1403546,\n",
       " 'United States': 33999,\n",
       " 'New York, USA': 20625,\n",
       " 'London, England': 19262,\n",
       " 'Bay Area, CA': 18019,\n",
       " 'Global': 17077,\n",
       " 'Blockchain': 15619,\n",
       " 'Worldwide': 14555,\n",
       " 'India': 14052,\n",
       " 'Moon': 13511,\n",
       " 'Canada': 13070,\n",
       " 'United Kingdom': 13048,\n",
       " 'Internet': 12534,\n",
       " 'Australia': 12432,\n",
       " 'USA': 12159,\n",
       " 'Earth': 11126,\n",
       " 'Dhaka, Bangladesh': 11084,\n",
       " \"Matter Doesn't Matter\": 10396,\n",
       " 'Metaverse': 10268,\n",
       " 'Los Angeles, CA': 9245,\n",
       " 'Seattle, WA': 8240,\n",
       " 'New York, NY': 7744,\n",
       " 'Bangladesh': 7495,\n",
       " 'England, United Kingdom': 7482,\n",
       " 'California, USA': 7284,\n",
       " 'London': 7072,\n",
       " 'Singapore': 6996,\n",
       " 'Mars': 6785,\n",
       " 'server': 6664,\n",
       " 'MOON': 6120}"
      ]
     },
     "execution_count": 26,
     "metadata": {},
     "output_type": "execute_result"
    }
   ],
   "source": [
    "localidades"
   ]
  },
  {
   "cell_type": "markdown",
   "id": "237b0ced-530f-4891-80f5-30b406f9501a",
   "metadata": {},
   "source": [
    "Vemos que mais da metade dos tweets são sem localização definida. Das localizações que podemos identificar, destacam-se EUA, Reino Unido, Índia, Canada e Austrália."
   ]
  },
  {
   "cell_type": "markdown",
   "id": "d97dbbe7-a64a-4fcd-9e0f-988a30676642",
   "metadata": {},
   "source": [
    "#### **Criação do Usuário**"
   ]
  },
  {
   "cell_type": "markdown",
   "id": "4fb1fa66-6c1e-4325-8cd0-50eb704903e7",
   "metadata": {},
   "source": [
    "Para observar as datas de criação do usuário, vamos criar um novo dataframe com apenas os anos de criação de cada usuário."
   ]
  },
  {
   "cell_type": "code",
   "execution_count": 27,
   "id": "8c0ea9d0-886f-470a-a78c-3202a9ef45c4",
   "metadata": {},
   "outputs": [],
   "source": [
    "df_idade = df[['user_created']].copy()"
   ]
  },
  {
   "cell_type": "code",
   "execution_count": 28,
   "id": "c114b317-4223-4fbc-8318-ac1acbca9fb9",
   "metadata": {},
   "outputs": [],
   "source": [
    "df_idade['ano'] = df['user_created'].dt.year"
   ]
  },
  {
   "cell_type": "code",
   "execution_count": 29,
   "id": "e8560335-6e4a-4e4c-8b1f-ca8f1e1d4cf0",
   "metadata": {},
   "outputs": [
    {
     "data": {
      "text/html": [
       "<div>\n",
       "<style scoped>\n",
       "    .dataframe tbody tr th:only-of-type {\n",
       "        vertical-align: middle;\n",
       "    }\n",
       "\n",
       "    .dataframe tbody tr th {\n",
       "        vertical-align: top;\n",
       "    }\n",
       "\n",
       "    .dataframe thead th {\n",
       "        text-align: right;\n",
       "    }\n",
       "</style>\n",
       "<table border=\"1\" class=\"dataframe\">\n",
       "  <thead>\n",
       "    <tr style=\"text-align: right;\">\n",
       "      <th></th>\n",
       "      <th>ano</th>\n",
       "    </tr>\n",
       "  </thead>\n",
       "  <tbody>\n",
       "    <tr>\n",
       "      <th>count</th>\n",
       "      <td>2830323.00</td>\n",
       "    </tr>\n",
       "    <tr>\n",
       "      <th>mean</th>\n",
       "      <td>2017.95</td>\n",
       "    </tr>\n",
       "    <tr>\n",
       "      <th>std</th>\n",
       "      <td>3.94</td>\n",
       "    </tr>\n",
       "    <tr>\n",
       "      <th>min</th>\n",
       "      <td>1970.00</td>\n",
       "    </tr>\n",
       "    <tr>\n",
       "      <th>25%</th>\n",
       "      <td>2016.00</td>\n",
       "    </tr>\n",
       "    <tr>\n",
       "      <th>50%</th>\n",
       "      <td>2020.00</td>\n",
       "    </tr>\n",
       "    <tr>\n",
       "      <th>75%</th>\n",
       "      <td>2021.00</td>\n",
       "    </tr>\n",
       "    <tr>\n",
       "      <th>max</th>\n",
       "      <td>2022.00</td>\n",
       "    </tr>\n",
       "  </tbody>\n",
       "</table>\n",
       "</div>"
      ],
      "text/plain": [
       "             ano\n",
       "count 2830323.00\n",
       "mean     2017.95\n",
       "std         3.94\n",
       "min      1970.00\n",
       "25%      2016.00\n",
       "50%      2020.00\n",
       "75%      2021.00\n",
       "max      2022.00"
      ]
     },
     "execution_count": 29,
     "metadata": {},
     "output_type": "execute_result"
    }
   ],
   "source": [
    "df_idade.describe()"
   ]
  },
  {
   "cell_type": "markdown",
   "id": "749f8318-26ca-4a0f-94e2-e8b93af21cc4",
   "metadata": {},
   "source": [
    "Vemos que temos entradas com valor 1970, o que não faz sentido. Vamos remover as datas de criação inferiores à 2006, ano de criação do Twitter."
   ]
  },
  {
   "cell_type": "code",
   "execution_count": 30,
   "id": "32b18cc7-5d8f-4f6d-ad88-d3506f181a7e",
   "metadata": {},
   "outputs": [],
   "source": [
    "df_idade.dropna(axis=1, how='all')\n",
    "df_idade_filtro=df_idade.loc[df_idade['ano'] >= 2006]"
   ]
  },
  {
   "cell_type": "code",
   "execution_count": 31,
   "id": "20e7e862-6228-4cf2-904d-df1c6304d67d",
   "metadata": {},
   "outputs": [
    {
     "data": {
      "text/html": [
       "<div>\n",
       "<style scoped>\n",
       "    .dataframe tbody tr th:only-of-type {\n",
       "        vertical-align: middle;\n",
       "    }\n",
       "\n",
       "    .dataframe tbody tr th {\n",
       "        vertical-align: top;\n",
       "    }\n",
       "\n",
       "    .dataframe thead th {\n",
       "        text-align: right;\n",
       "    }\n",
       "</style>\n",
       "<table border=\"1\" class=\"dataframe\">\n",
       "  <thead>\n",
       "    <tr style=\"text-align: right;\">\n",
       "      <th></th>\n",
       "      <th>ano</th>\n",
       "    </tr>\n",
       "  </thead>\n",
       "  <tbody>\n",
       "    <tr>\n",
       "      <th>count</th>\n",
       "      <td>2830316.00</td>\n",
       "    </tr>\n",
       "    <tr>\n",
       "      <th>mean</th>\n",
       "      <td>2017.95</td>\n",
       "    </tr>\n",
       "    <tr>\n",
       "      <th>std</th>\n",
       "      <td>3.94</td>\n",
       "    </tr>\n",
       "    <tr>\n",
       "      <th>min</th>\n",
       "      <td>2006.00</td>\n",
       "    </tr>\n",
       "    <tr>\n",
       "      <th>25%</th>\n",
       "      <td>2016.00</td>\n",
       "    </tr>\n",
       "    <tr>\n",
       "      <th>50%</th>\n",
       "      <td>2020.00</td>\n",
       "    </tr>\n",
       "    <tr>\n",
       "      <th>75%</th>\n",
       "      <td>2021.00</td>\n",
       "    </tr>\n",
       "    <tr>\n",
       "      <th>max</th>\n",
       "      <td>2022.00</td>\n",
       "    </tr>\n",
       "  </tbody>\n",
       "</table>\n",
       "</div>"
      ],
      "text/plain": [
       "             ano\n",
       "count 2830316.00\n",
       "mean     2017.95\n",
       "std         3.94\n",
       "min      2006.00\n",
       "25%      2016.00\n",
       "50%      2020.00\n",
       "75%      2021.00\n",
       "max      2022.00"
      ]
     },
     "execution_count": 31,
     "metadata": {},
     "output_type": "execute_result"
    }
   ],
   "source": [
    "df_idade_filtro.describe()"
   ]
  },
  {
   "cell_type": "code",
   "execution_count": 32,
   "id": "70ba77e5-4fdd-46dc-8d57-ba4b2cad8b32",
   "metadata": {},
   "outputs": [
    {
     "data": {
      "image/png": "[encoded data removed]",
      "text/plain": [
       "<Figure size 1080x504 with 1 Axes>"
      ]
     },
     "metadata": {
      "needs_background": "light"
     },
     "output_type": "display_data"
    }
   ],
   "source": [
    "plt.figure(figsize=(15,7))\n",
    "plt.boxplot(df_idade_filtro['ano'])\n",
    "plt.show()"
   ]
  },
  {
   "cell_type": "markdown",
   "id": "014a084e-498c-4580-878c-04ab8e2e7880",
   "metadata": {},
   "source": [
    "O Boxplot nos ajuda a entender que a maior parte dos tweets foram gerados de contas criadas a partir de 2016."
   ]
  },
  {
   "cell_type": "markdown",
   "id": "fc68371c-9a9d-47ec-92cd-ba977c2c974a",
   "metadata": {},
   "source": [
    "#### **Seguidores, Amigos e Favoritos**"
   ]
  },
  {
   "cell_type": "markdown",
   "id": "4dee2da3-835e-4409-83d0-e67f3e779800",
   "metadata": {},
   "source": [
    "Para este caso, vamos utilizar os usuários da amostra que coletamos para o estudo de usuários."
   ]
  },
  {
   "cell_type": "code",
   "execution_count": 33,
   "id": "05333eab-3e45-42c7-9cb9-beb1ac133490",
   "metadata": {},
   "outputs": [],
   "source": [
    "usuarios_amostra=list(usuarios_ativos.keys())"
   ]
  },
  {
   "cell_type": "code",
   "execution_count": 34,
   "id": "d2d45193-b06a-4d3f-a88b-97d915d6b05f",
   "metadata": {},
   "outputs": [],
   "source": [
    "df_seguidores = df[['user_name','user_followers', 'date']].copy()"
   ]
  },
  {
   "cell_type": "code",
   "execution_count": 35,
   "id": "35098295-6266-4b81-b84e-041267728817",
   "metadata": {},
   "outputs": [],
   "source": [
    "df_seg_filtro=df_seguidores.loc[df_seguidores['user_name'].isin(usuarios_amostra)].sort_values(by='date',ascending=False)"
   ]
  },
  {
   "cell_type": "code",
   "execution_count": 36,
   "id": "1088e4ad-6e4b-4d52-8ee9-9ba0a2055d3c",
   "metadata": {},
   "outputs": [],
   "source": [
    "df_seg_filtro=df_seg_filtro.drop_duplicates(subset='user_name')"
   ]
  },
  {
   "cell_type": "code",
   "execution_count": 37,
   "id": "7ff30e4e-a22c-4ce7-ba65-799c959f17bf",
   "metadata": {},
   "outputs": [
    {
     "data": {
      "text/html": [
       "<div>\n",
       "<style scoped>\n",
       "    .dataframe tbody tr th:only-of-type {\n",
       "        vertical-align: middle;\n",
       "    }\n",
       "\n",
       "    .dataframe tbody tr th {\n",
       "        vertical-align: top;\n",
       "    }\n",
       "\n",
       "    .dataframe thead th {\n",
       "        text-align: right;\n",
       "    }\n",
       "</style>\n",
       "<table border=\"1\" class=\"dataframe\">\n",
       "  <thead>\n",
       "    <tr style=\"text-align: right;\">\n",
       "      <th></th>\n",
       "      <th>user_followers</th>\n",
       "    </tr>\n",
       "  </thead>\n",
       "  <tbody>\n",
       "    <tr>\n",
       "      <th>count</th>\n",
       "      <td>88624.00</td>\n",
       "    </tr>\n",
       "    <tr>\n",
       "      <th>mean</th>\n",
       "      <td>6047.01</td>\n",
       "    </tr>\n",
       "    <tr>\n",
       "      <th>std</th>\n",
       "      <td>151581.28</td>\n",
       "    </tr>\n",
       "    <tr>\n",
       "      <th>min</th>\n",
       "      <td>0.00</td>\n",
       "    </tr>\n",
       "    <tr>\n",
       "      <th>25%</th>\n",
       "      <td>42.00</td>\n",
       "    </tr>\n",
       "    <tr>\n",
       "      <th>50%</th>\n",
       "      <td>164.00</td>\n",
       "    </tr>\n",
       "    <tr>\n",
       "      <th>75%</th>\n",
       "      <td>813.00</td>\n",
       "    </tr>\n",
       "    <tr>\n",
       "      <th>max</th>\n",
       "      <td>24131346.00</td>\n",
       "    </tr>\n",
       "  </tbody>\n",
       "</table>\n",
       "</div>"
      ],
      "text/plain": [
       "       user_followers\n",
       "count        88624.00\n",
       "mean          6047.01\n",
       "std         151581.28\n",
       "min              0.00\n",
       "25%             42.00\n",
       "50%            164.00\n",
       "75%            813.00\n",
       "max       24131346.00"
      ]
     },
     "execution_count": 37,
     "metadata": {},
     "output_type": "execute_result"
    }
   ],
   "source": [
    "df_seg_filtro.describe()"
   ]
  },
  {
   "cell_type": "markdown",
   "id": "01d27355-0807-45c6-ac7b-c127f51b5fad",
   "metadata": {},
   "source": [
    "Ao filtrar os usuários que estavam na amostra contendo os que mais criaram tweets e removendo os dados duplicados, vemos que na média os usuários possuem 22.567 seguidores. A conta que mais possui seguidores tem mais de 24 milhões de seguidores."
   ]
  },
  {
   "cell_type": "code",
   "execution_count": 38,
   "id": "4c72c8dc-29ce-4aa1-a04f-2888f1997b9f",
   "metadata": {},
   "outputs": [
    {
     "data": {
      "text/html": [
       "<div>\n",
       "<style scoped>\n",
       "    .dataframe tbody tr th:only-of-type {\n",
       "        vertical-align: middle;\n",
       "    }\n",
       "\n",
       "    .dataframe tbody tr th {\n",
       "        vertical-align: top;\n",
       "    }\n",
       "\n",
       "    .dataframe thead th {\n",
       "        text-align: right;\n",
       "    }\n",
       "</style>\n",
       "<table border=\"1\" class=\"dataframe\">\n",
       "  <thead>\n",
       "    <tr style=\"text-align: right;\">\n",
       "      <th></th>\n",
       "      <th>user_name</th>\n",
       "      <th>user_followers</th>\n",
       "      <th>date</th>\n",
       "    </tr>\n",
       "  </thead>\n",
       "  <tbody>\n",
       "    <tr>\n",
       "      <th>1973855</th>\n",
       "      <td>Reuters</td>\n",
       "      <td>24131346.00</td>\n",
       "      <td>2021-12-30 19:20:00</td>\n",
       "    </tr>\n",
       "    <tr>\n",
       "      <th>2317153</th>\n",
       "      <td>Forbes</td>\n",
       "      <td>17477087.00</td>\n",
       "      <td>2022-02-18 23:21:39</td>\n",
       "    </tr>\n",
       "    <tr>\n",
       "      <th>1899505</th>\n",
       "      <td>NDTV</td>\n",
       "      <td>16370108.00</td>\n",
       "      <td>2021-11-25 13:33:08</td>\n",
       "    </tr>\n",
       "    <tr>\n",
       "      <th>1282168</th>\n",
       "      <td>CGTN</td>\n",
       "      <td>13453069.00</td>\n",
       "      <td>2021-10-18 22:05:46</td>\n",
       "    </tr>\n",
       "    <tr>\n",
       "      <th>365296</th>\n",
       "      <td>TIMES NOW</td>\n",
       "      <td>10047481.00</td>\n",
       "      <td>2021-07-23 12:40:00</td>\n",
       "    </tr>\n",
       "    <tr>\n",
       "      <th>2728248</th>\n",
       "      <td>Binance</td>\n",
       "      <td>8377226.00</td>\n",
       "      <td>2022-04-15 23:00:11</td>\n",
       "    </tr>\n",
       "    <tr>\n",
       "      <th>2154959</th>\n",
       "      <td>Hindustan Times</td>\n",
       "      <td>8369164.00</td>\n",
       "      <td>2022-01-22 12:42:17</td>\n",
       "    </tr>\n",
       "    <tr>\n",
       "      <th>1521661</th>\n",
       "      <td>Bloomberg</td>\n",
       "      <td>7623470.00</td>\n",
       "      <td>2021-10-29 01:48:09</td>\n",
       "    </tr>\n",
       "    <tr>\n",
       "      <th>2095446</th>\n",
       "      <td>IndiaToday</td>\n",
       "      <td>5920167.00</td>\n",
       "      <td>2022-01-12 10:02:23</td>\n",
       "    </tr>\n",
       "    <tr>\n",
       "      <th>2161597</th>\n",
       "      <td>Zee News English</td>\n",
       "      <td>5547619.00</td>\n",
       "      <td>2022-01-22 10:25:00</td>\n",
       "    </tr>\n",
       "  </tbody>\n",
       "</table>\n",
       "</div>"
      ],
      "text/plain": [
       "                user_name  user_followers                date\n",
       "1973855           Reuters     24131346.00 2021-12-30 19:20:00\n",
       "2317153            Forbes     17477087.00 2022-02-18 23:21:39\n",
       "1899505              NDTV     16370108.00 2021-11-25 13:33:08\n",
       "1282168              CGTN     13453069.00 2021-10-18 22:05:46\n",
       "365296          TIMES NOW     10047481.00 2021-07-23 12:40:00\n",
       "2728248           Binance      8377226.00 2022-04-15 23:00:11\n",
       "2154959   Hindustan Times      8369164.00 2022-01-22 12:42:17\n",
       "1521661         Bloomberg      7623470.00 2021-10-29 01:48:09\n",
       "2095446        IndiaToday      5920167.00 2022-01-12 10:02:23\n",
       "2161597  Zee News English      5547619.00 2022-01-22 10:25:00"
      ]
     },
     "execution_count": 38,
     "metadata": {},
     "output_type": "execute_result"
    }
   ],
   "source": [
    "df_seg_filtro.sort_values(by='user_followers',ascending=False).head(10)"
   ]
  },
  {
   "cell_type": "markdown",
   "id": "a9565be4-65ec-4971-bd9a-dc12bb289e61",
   "metadata": {},
   "source": [
    "Vemos que as contas de grandes canais de mídia são as com mais seguidores."
   ]
  },
  {
   "cell_type": "markdown",
   "id": "903cb6cb-31a4-440b-8f6d-39610b8825ed",
   "metadata": {},
   "source": [
    "De maneira similar, vamos ver os dados de amigos."
   ]
  },
  {
   "cell_type": "code",
   "execution_count": 39,
   "id": "719cda76-ce29-4cb3-b93a-8e94fa664b85",
   "metadata": {},
   "outputs": [],
   "source": [
    "df_amigos = df[['user_name','user_friends','date']].copy()"
   ]
  },
  {
   "cell_type": "code",
   "execution_count": 40,
   "id": "bd1eed3d-cacb-4a9a-b1ac-8ce18f38b98a",
   "metadata": {},
   "outputs": [],
   "source": [
    "df_ami_filtro=df_amigos.loc[df_amigos['user_name'].isin(usuarios_amostra)].sort_values(by='date',ascending=False)"
   ]
  },
  {
   "cell_type": "code",
   "execution_count": 41,
   "id": "f587f133-9668-4354-81cd-f65991fbd1f0",
   "metadata": {},
   "outputs": [],
   "source": [
    "df_ami_filtro=df_ami_filtro.drop_duplicates(subset='user_name')"
   ]
  },
  {
   "cell_type": "code",
   "execution_count": 42,
   "id": "7c6d5487-4329-4033-b408-7919f47ce3bf",
   "metadata": {},
   "outputs": [
    {
     "data": {
      "text/html": [
       "<div>\n",
       "<style scoped>\n",
       "    .dataframe tbody tr th:only-of-type {\n",
       "        vertical-align: middle;\n",
       "    }\n",
       "\n",
       "    .dataframe tbody tr th {\n",
       "        vertical-align: top;\n",
       "    }\n",
       "\n",
       "    .dataframe thead th {\n",
       "        text-align: right;\n",
       "    }\n",
       "</style>\n",
       "<table border=\"1\" class=\"dataframe\">\n",
       "  <thead>\n",
       "    <tr style=\"text-align: right;\">\n",
       "      <th></th>\n",
       "      <th>user_friends</th>\n",
       "    </tr>\n",
       "  </thead>\n",
       "  <tbody>\n",
       "    <tr>\n",
       "      <th>count</th>\n",
       "      <td>88624.00</td>\n",
       "    </tr>\n",
       "    <tr>\n",
       "      <th>mean</th>\n",
       "      <td>979.22</td>\n",
       "    </tr>\n",
       "    <tr>\n",
       "      <th>std</th>\n",
       "      <td>4029.77</td>\n",
       "    </tr>\n",
       "    <tr>\n",
       "      <th>min</th>\n",
       "      <td>0.00</td>\n",
       "    </tr>\n",
       "    <tr>\n",
       "      <th>25%</th>\n",
       "      <td>105.00</td>\n",
       "    </tr>\n",
       "    <tr>\n",
       "      <th>50%</th>\n",
       "      <td>346.00</td>\n",
       "    </tr>\n",
       "    <tr>\n",
       "      <th>75%</th>\n",
       "      <td>979.25</td>\n",
       "    </tr>\n",
       "    <tr>\n",
       "      <th>max</th>\n",
       "      <td>442557.00</td>\n",
       "    </tr>\n",
       "  </tbody>\n",
       "</table>\n",
       "</div>"
      ],
      "text/plain": [
       "       user_friends\n",
       "count      88624.00\n",
       "mean         979.22\n",
       "std         4029.77\n",
       "min            0.00\n",
       "25%          105.00\n",
       "50%          346.00\n",
       "75%          979.25\n",
       "max       442557.00"
      ]
     },
     "execution_count": 42,
     "metadata": {},
     "output_type": "execute_result"
    }
   ],
   "source": [
    "df_ami_filtro.describe()"
   ]
  },
  {
   "cell_type": "markdown",
   "id": "c93782a0-dc28-494b-8c53-42a12c43133c",
   "metadata": {},
   "source": [
    "Fazendo os mesmos filtros que feitos anteriormente, as contas possuem em média 1087 amigos e a conta que mais possui amigos tem 446.893 amigos."
   ]
  },
  {
   "cell_type": "code",
   "execution_count": 43,
   "id": "5552a35f-855b-40fe-a7b9-70630b1ee8d2",
   "metadata": {},
   "outputs": [
    {
     "data": {
      "text/html": [
       "<div>\n",
       "<style scoped>\n",
       "    .dataframe tbody tr th:only-of-type {\n",
       "        vertical-align: middle;\n",
       "    }\n",
       "\n",
       "    .dataframe tbody tr th {\n",
       "        vertical-align: top;\n",
       "    }\n",
       "\n",
       "    .dataframe thead th {\n",
       "        text-align: right;\n",
       "    }\n",
       "</style>\n",
       "<table border=\"1\" class=\"dataframe\">\n",
       "  <thead>\n",
       "    <tr style=\"text-align: right;\">\n",
       "      <th></th>\n",
       "      <th>user_name</th>\n",
       "      <th>user_friends</th>\n",
       "      <th>date</th>\n",
       "    </tr>\n",
       "  </thead>\n",
       "  <tbody>\n",
       "    <tr>\n",
       "      <th>1822144</th>\n",
       "      <td>Beef Ent.</td>\n",
       "      <td>442557.00</td>\n",
       "      <td>2021-11-19 07:15:45</td>\n",
       "    </tr>\n",
       "    <tr>\n",
       "      <th>2474798</th>\n",
       "      <td>Warren Whitlock</td>\n",
       "      <td>379087.00</td>\n",
       "      <td>2022-03-17 20:55:02</td>\n",
       "    </tr>\n",
       "    <tr>\n",
       "      <th>2005961</th>\n",
       "      <td>Evan Kirstel #TechFluencer</td>\n",
       "      <td>280286.00</td>\n",
       "      <td>2022-01-14 19:40:02</td>\n",
       "    </tr>\n",
       "    <tr>\n",
       "      <th>1490737</th>\n",
       "      <td>Evan Kirstel #B2B #TechFluencer</td>\n",
       "      <td>279393.00</td>\n",
       "      <td>2021-10-29 22:44:20</td>\n",
       "    </tr>\n",
       "    <tr>\n",
       "      <th>1128363</th>\n",
       "      <td>Evan Kirstel the $B2B Techfluencer</td>\n",
       "      <td>277744.00</td>\n",
       "      <td>2021-08-25 13:43:08</td>\n",
       "    </tr>\n",
       "    <tr>\n",
       "      <th>78983</th>\n",
       "      <td>🟣 Evan Kirstel $B2B</td>\n",
       "      <td>275416.00</td>\n",
       "      <td>2021-04-23 16:58:36</td>\n",
       "    </tr>\n",
       "    <tr>\n",
       "      <th>358256</th>\n",
       "      <td>❂ Yübbîę Umoh ❂</td>\n",
       "      <td>269410.00</td>\n",
       "      <td>2021-07-23 22:12:16</td>\n",
       "    </tr>\n",
       "    <tr>\n",
       "      <th>2791888</th>\n",
       "      <td>Herbert R. Sim</td>\n",
       "      <td>183412.00</td>\n",
       "      <td>2022-04-14 17:27:16</td>\n",
       "    </tr>\n",
       "    <tr>\n",
       "      <th>2706152</th>\n",
       "      <td>Trade Alerts, Trade Ideas and Crypto 🇺🇸</td>\n",
       "      <td>154518.00</td>\n",
       "      <td>2022-04-16 17:18:19</td>\n",
       "    </tr>\n",
       "    <tr>\n",
       "      <th>2168268</th>\n",
       "      <td>YesPunjab.com (For Punjabi follow @BawaHs)</td>\n",
       "      <td>148274.00</td>\n",
       "      <td>2022-01-22 08:11:33</td>\n",
       "    </tr>\n",
       "  </tbody>\n",
       "</table>\n",
       "</div>"
      ],
      "text/plain": [
       "                                          user_name  user_friends  \\\n",
       "1822144                                   Beef Ent.     442557.00   \n",
       "2474798                             Warren Whitlock     379087.00   \n",
       "2005961                  Evan Kirstel #TechFluencer     280286.00   \n",
       "1490737             Evan Kirstel #B2B #TechFluencer     279393.00   \n",
       "1128363          Evan Kirstel the $B2B Techfluencer     277744.00   \n",
       "78983                           🟣 Evan Kirstel $B2B     275416.00   \n",
       "358256                              ❂ Yübbîę Umoh ❂     269410.00   \n",
       "2791888                              Herbert R. Sim     183412.00   \n",
       "2706152     Trade Alerts, Trade Ideas and Crypto 🇺🇸     154518.00   \n",
       "2168268  YesPunjab.com (For Punjabi follow @BawaHs)     148274.00   \n",
       "\n",
       "                       date  \n",
       "1822144 2021-11-19 07:15:45  \n",
       "2474798 2022-03-17 20:55:02  \n",
       "2005961 2022-01-14 19:40:02  \n",
       "1490737 2021-10-29 22:44:20  \n",
       "1128363 2021-08-25 13:43:08  \n",
       "78983   2021-04-23 16:58:36  \n",
       "358256  2021-07-23 22:12:16  \n",
       "2791888 2022-04-14 17:27:16  \n",
       "2706152 2022-04-16 17:18:19  \n",
       "2168268 2022-01-22 08:11:33  "
      ]
     },
     "execution_count": 43,
     "metadata": {},
     "output_type": "execute_result"
    }
   ],
   "source": [
    "df_ami_filtro.sort_values(by='user_friends',ascending=False).head(10)"
   ]
  },
  {
   "cell_type": "markdown",
   "id": "b2cd1461-01bc-4413-94df-8b9692d888ae",
   "metadata": {},
   "source": [
    "No caso de amigos, as contas de pessoas físicas são as que mais possuem."
   ]
  },
  {
   "cell_type": "markdown",
   "id": "9adf43f3-930e-41a2-b076-e000658d9682",
   "metadata": {},
   "source": [
    "No caso dos favoritos, vamos seguir a mesma linha utilizada anteriormente."
   ]
  },
  {
   "cell_type": "code",
   "execution_count": 44,
   "id": "3d1fee8d-cca8-436c-b1fb-5cf329b513db",
   "metadata": {},
   "outputs": [],
   "source": [
    "df_favoritos = df[['user_name','user_favourites','date']].copy()"
   ]
  },
  {
   "cell_type": "code",
   "execution_count": 45,
   "id": "38ad3ef0-d560-4817-bca7-9f576aa32446",
   "metadata": {},
   "outputs": [],
   "source": [
    "df_fav_filtro=df_favoritos.loc[df_favoritos['user_name'].isin(usuarios_amostra)].sort_values(by='date',ascending=False)"
   ]
  },
  {
   "cell_type": "code",
   "execution_count": 46,
   "id": "5a057963-1421-4f0f-92e9-ec2247bfd7d6",
   "metadata": {},
   "outputs": [],
   "source": [
    "df_fav_filtro=df_fav_filtro.drop_duplicates(subset='user_name')"
   ]
  },
  {
   "cell_type": "code",
   "execution_count": 47,
   "id": "59cee097-c829-4930-b5de-bdde779f757e",
   "metadata": {},
   "outputs": [
    {
     "data": {
      "text/html": [
       "<div>\n",
       "<style scoped>\n",
       "    .dataframe tbody tr th:only-of-type {\n",
       "        vertical-align: middle;\n",
       "    }\n",
       "\n",
       "    .dataframe tbody tr th {\n",
       "        vertical-align: top;\n",
       "    }\n",
       "\n",
       "    .dataframe thead th {\n",
       "        text-align: right;\n",
       "    }\n",
       "</style>\n",
       "<table border=\"1\" class=\"dataframe\">\n",
       "  <thead>\n",
       "    <tr style=\"text-align: right;\">\n",
       "      <th></th>\n",
       "      <th>user_favourites</th>\n",
       "    </tr>\n",
       "  </thead>\n",
       "  <tbody>\n",
       "    <tr>\n",
       "      <th>count</th>\n",
       "      <td>88624.00</td>\n",
       "    </tr>\n",
       "    <tr>\n",
       "      <th>mean</th>\n",
       "      <td>7321.08</td>\n",
       "    </tr>\n",
       "    <tr>\n",
       "      <th>std</th>\n",
       "      <td>21931.55</td>\n",
       "    </tr>\n",
       "    <tr>\n",
       "      <th>min</th>\n",
       "      <td>0.00</td>\n",
       "    </tr>\n",
       "    <tr>\n",
       "      <th>25%</th>\n",
       "      <td>280.00</td>\n",
       "    </tr>\n",
       "    <tr>\n",
       "      <th>50%</th>\n",
       "      <td>1331.00</td>\n",
       "    </tr>\n",
       "    <tr>\n",
       "      <th>75%</th>\n",
       "      <td>5247.50</td>\n",
       "    </tr>\n",
       "    <tr>\n",
       "      <th>max</th>\n",
       "      <td>1152480.00</td>\n",
       "    </tr>\n",
       "  </tbody>\n",
       "</table>\n",
       "</div>"
      ],
      "text/plain": [
       "       user_favourites\n",
       "count         88624.00\n",
       "mean           7321.08\n",
       "std           21931.55\n",
       "min               0.00\n",
       "25%             280.00\n",
       "50%            1331.00\n",
       "75%            5247.50\n",
       "max         1152480.00"
      ]
     },
     "execution_count": 47,
     "metadata": {},
     "output_type": "execute_result"
    }
   ],
   "source": [
    "df_fav_filtro.describe()"
   ]
  },
  {
   "cell_type": "code",
   "execution_count": 48,
   "id": "71ea50e8-eaa2-4d89-b8a1-e13bd301566b",
   "metadata": {},
   "outputs": [
    {
     "data": {
      "text/html": [
       "<div>\n",
       "<style scoped>\n",
       "    .dataframe tbody tr th:only-of-type {\n",
       "        vertical-align: middle;\n",
       "    }\n",
       "\n",
       "    .dataframe tbody tr th {\n",
       "        vertical-align: top;\n",
       "    }\n",
       "\n",
       "    .dataframe thead th {\n",
       "        text-align: right;\n",
       "    }\n",
       "</style>\n",
       "<table border=\"1\" class=\"dataframe\">\n",
       "  <thead>\n",
       "    <tr style=\"text-align: right;\">\n",
       "      <th></th>\n",
       "      <th>user_name</th>\n",
       "      <th>user_favourites</th>\n",
       "      <th>date</th>\n",
       "    </tr>\n",
       "  </thead>\n",
       "  <tbody>\n",
       "    <tr>\n",
       "      <th>2144619</th>\n",
       "      <td>Art Vandelay</td>\n",
       "      <td>1152480.00</td>\n",
       "      <td>2022-01-22 16:27:01</td>\n",
       "    </tr>\n",
       "    <tr>\n",
       "      <th>2700363</th>\n",
       "      <td>IBookery</td>\n",
       "      <td>1001165.00</td>\n",
       "      <td>2022-04-16 21:16:55</td>\n",
       "    </tr>\n",
       "    <tr>\n",
       "      <th>1999686</th>\n",
       "      <td>Jake Hamby 💾🧙</td>\n",
       "      <td>903096.00</td>\n",
       "      <td>2022-01-14 23:51:02</td>\n",
       "    </tr>\n",
       "    <tr>\n",
       "      <th>1922096</th>\n",
       "      <td>Support Kids with ASD🥰💞😍😘🤗</td>\n",
       "      <td>846421.00</td>\n",
       "      <td>2021-11-24 20:57:21</td>\n",
       "    </tr>\n",
       "    <tr>\n",
       "      <th>2470867</th>\n",
       "      <td>Crypto (DJ) Prestige</td>\n",
       "      <td>803786.00</td>\n",
       "      <td>2022-03-18 14:09:08</td>\n",
       "    </tr>\n",
       "    <tr>\n",
       "      <th>2005961</th>\n",
       "      <td>Evan Kirstel #TechFluencer</td>\n",
       "      <td>588985.00</td>\n",
       "      <td>2022-01-14 19:40:02</td>\n",
       "    </tr>\n",
       "    <tr>\n",
       "      <th>1490737</th>\n",
       "      <td>Evan Kirstel #B2B #TechFluencer</td>\n",
       "      <td>588453.00</td>\n",
       "      <td>2021-10-29 22:44:20</td>\n",
       "    </tr>\n",
       "    <tr>\n",
       "      <th>1128363</th>\n",
       "      <td>Evan Kirstel the $B2B Techfluencer</td>\n",
       "      <td>587570.00</td>\n",
       "      <td>2021-08-25 13:43:08</td>\n",
       "    </tr>\n",
       "    <tr>\n",
       "      <th>360913</th>\n",
       "      <td>despair haver</td>\n",
       "      <td>546338.00</td>\n",
       "      <td>2021-07-23 15:02:20</td>\n",
       "    </tr>\n",
       "    <tr>\n",
       "      <th>1822144</th>\n",
       "      <td>Beef Ent.</td>\n",
       "      <td>527186.00</td>\n",
       "      <td>2021-11-19 07:15:45</td>\n",
       "    </tr>\n",
       "  </tbody>\n",
       "</table>\n",
       "</div>"
      ],
      "text/plain": [
       "                                  user_name  user_favourites  \\\n",
       "2144619                        Art Vandelay       1152480.00   \n",
       "2700363                            IBookery       1001165.00   \n",
       "1999686                       Jake Hamby 💾🧙        903096.00   \n",
       "1922096          Support Kids with ASD🥰💞😍😘🤗        846421.00   \n",
       "2470867                Crypto (DJ) Prestige        803786.00   \n",
       "2005961          Evan Kirstel #TechFluencer        588985.00   \n",
       "1490737     Evan Kirstel #B2B #TechFluencer        588453.00   \n",
       "1128363  Evan Kirstel the $B2B Techfluencer        587570.00   \n",
       "360913                        despair haver        546338.00   \n",
       "1822144                           Beef Ent.        527186.00   \n",
       "\n",
       "                       date  \n",
       "2144619 2022-01-22 16:27:01  \n",
       "2700363 2022-04-16 21:16:55  \n",
       "1999686 2022-01-14 23:51:02  \n",
       "1922096 2021-11-24 20:57:21  \n",
       "2470867 2022-03-18 14:09:08  \n",
       "2005961 2022-01-14 19:40:02  \n",
       "1490737 2021-10-29 22:44:20  \n",
       "1128363 2021-08-25 13:43:08  \n",
       "360913  2021-07-23 15:02:20  \n",
       "1822144 2021-11-19 07:15:45  "
      ]
     },
     "execution_count": 48,
     "metadata": {},
     "output_type": "execute_result"
    }
   ],
   "source": [
    "df_fav_filtro.sort_values(by='user_favourites',ascending=False).head(10)"
   ]
  },
  {
   "cell_type": "markdown",
   "id": "686d5cbb-4622-4976-9c7e-05295c3f5397",
   "metadata": {},
   "source": [
    "De maneira similar ao de amigos, as contas de pessoas físicas são as que mais possuem."
   ]
  },
  {
   "cell_type": "markdown",
   "id": "c9e12a4a-6b2b-4452-be9a-0d74456705ce",
   "metadata": {},
   "source": [
    "#### **Usuários Verificados**"
   ]
  },
  {
   "cell_type": "markdown",
   "id": "3946c1d0-347f-48f8-95bf-dfcdace09927",
   "metadata": {},
   "source": [
    "Vamos criar um dataframe contendo apenas as colunas de nome de usuário e usuários verificados. A partir das estatísticas descritivas feitas com o dataframe completo, é possível observar que existem 17 valores unicos para a coluna de verificação, sendo que se esperava apenas \"True\" ou \"False\". Vamos ver os valores únicos dessa coluna para entender melhor."
   ]
  },
  {
   "cell_type": "code",
   "execution_count": 49,
   "id": "9209543b-9d1f-4f00-a716-93d0f1b7c4ea",
   "metadata": {},
   "outputs": [],
   "source": [
    "df_verificados = df[['user_name','user_verified','date']].copy()"
   ]
  },
  {
   "cell_type": "code",
   "execution_count": 50,
   "id": "31382cbe-61ef-4bcc-b7d1-e9ce348151c1",
   "metadata": {},
   "outputs": [
    {
     "data": {
      "text/plain": [
       "['False', 'True', '@krakenfx  #ETH #BTC  If you want to become p..., 'Official ESHOP Airdrop. If You Missed Meme To..., '@pufferswap Nice project\\n\\n@karnoto_hendrik ..., ..., 'DocumentingBTC: #bitcoin at $30: \"Am I too la..., 'Crypto Market\\nOpen your Free Angel One Accou..., '35', '💸 Earn free #BTC and multiply crypto up to 15..., NaN]\n",
       "Length: 18\n",
       "Categories (17, object): ['#btc to the moon 🚀🚀 46059', '#btc to the moon 🚀🚀 77774', '35', '@DogCakeFinance @DogCakeFinance Great project..., ..., 'Official ESHOP Airdrop. If You Missed Meme To..., 'True', '💸 Earn free #BTC and multiply crypto up to 15..., '🤯Mind-blowing 99.7% of all Bitcoin holders ar...]"
      ]
     },
     "execution_count": 50,
     "metadata": {},
     "output_type": "execute_result"
    }
   ],
   "source": [
    "df_verificados['user_verified'].unique()"
   ]
  },
  {
   "cell_type": "code",
   "execution_count": 51,
   "id": "f01ad997-8bc5-43ce-a59a-f0fa6dc1285d",
   "metadata": {},
   "outputs": [],
   "source": [
    "verificacao=[\"True\", \"False\"]"
   ]
  },
  {
   "cell_type": "code",
   "execution_count": 52,
   "id": "460a5dea-b9b9-4dc6-afd6-a43912e8f1cf",
   "metadata": {},
   "outputs": [],
   "source": [
    "df_ver_filtro=df_verificados.loc[df_verificados['user_verified'].isin(verificacao)].sort_values(by='date',ascending=False)"
   ]
  },
  {
   "cell_type": "code",
   "execution_count": 53,
   "id": "239266db-1399-4564-b366-a73e1adb25ac",
   "metadata": {},
   "outputs": [],
   "source": [
    "df_ver_filtro=df_ver_filtro.drop_duplicates(subset='user_name')"
   ]
  },
  {
   "cell_type": "code",
   "execution_count": 54,
   "id": "7c00be84-6e9c-4f97-a047-691c517c5f3b",
   "metadata": {},
   "outputs": [
    {
     "data": {
      "text/html": [
       "<div>\n",
       "<style scoped>\n",
       "    .dataframe tbody tr th:only-of-type {\n",
       "        vertical-align: middle;\n",
       "    }\n",
       "\n",
       "    .dataframe tbody tr th {\n",
       "        vertical-align: top;\n",
       "    }\n",
       "\n",
       "    .dataframe thead th {\n",
       "        text-align: right;\n",
       "    }\n",
       "</style>\n",
       "<table border=\"1\" class=\"dataframe\">\n",
       "  <thead>\n",
       "    <tr style=\"text-align: right;\">\n",
       "      <th></th>\n",
       "      <th>user_name</th>\n",
       "      <th>user_verified</th>\n",
       "      <th>date</th>\n",
       "    </tr>\n",
       "  </thead>\n",
       "  <tbody>\n",
       "    <tr>\n",
       "      <th>count</th>\n",
       "      <td>443043</td>\n",
       "      <td>443044</td>\n",
       "      <td>443044</td>\n",
       "    </tr>\n",
       "    <tr>\n",
       "      <th>unique</th>\n",
       "      <td>443043</td>\n",
       "      <td>2</td>\n",
       "      <td>416595</td>\n",
       "    </tr>\n",
       "    <tr>\n",
       "      <th>top</th>\n",
       "      <td>USD hegemony ⚡️</td>\n",
       "      <td>False</td>\n",
       "      <td>2021-07-26 11:50:35</td>\n",
       "    </tr>\n",
       "    <tr>\n",
       "      <th>freq</th>\n",
       "      <td>1</td>\n",
       "      <td>439824</td>\n",
       "      <td>22</td>\n",
       "    </tr>\n",
       "    <tr>\n",
       "      <th>first</th>\n",
       "      <td>NaN</td>\n",
       "      <td>NaN</td>\n",
       "      <td>2021-02-05 11:27:34</td>\n",
       "    </tr>\n",
       "    <tr>\n",
       "      <th>last</th>\n",
       "      <td>NaN</td>\n",
       "      <td>NaN</td>\n",
       "      <td>2022-04-16 23:59:51</td>\n",
       "    </tr>\n",
       "  </tbody>\n",
       "</table>\n",
       "</div>"
      ],
      "text/plain": [
       "              user_name user_verified                 date\n",
       "count            443043        443044               443044\n",
       "unique           443043             2               416595\n",
       "top     USD hegemony ⚡️         False  2021-07-26 11:50:35\n",
       "freq                  1        439824                   22\n",
       "first               NaN           NaN  2021-02-05 11:27:34\n",
       "last                NaN           NaN  2022-04-16 23:59:51"
      ]
     },
     "execution_count": 54,
     "metadata": {},
     "output_type": "execute_result"
    }
   ],
   "source": [
    "df_ver_filtro.describe()"
   ]
  },
  {
   "cell_type": "code",
   "execution_count": 55,
   "id": "78713d66-8e89-48e4-9205-090f690dee6d",
   "metadata": {},
   "outputs": [],
   "source": [
    "df_ver_filtro_true=df_verificados.loc[df_verificados['user_verified']==\"True\"].drop_duplicates(subset='user_name')"
   ]
  },
  {
   "cell_type": "code",
   "execution_count": 56,
   "id": "8037e512-7691-414f-9a79-a63c34b09cba",
   "metadata": {},
   "outputs": [
    {
     "data": {
      "text/plain": [
       "user_name        3307\n",
       "user_verified    3307\n",
       "date             3307\n",
       "dtype: int64"
      ]
     },
     "execution_count": 56,
     "metadata": {},
     "output_type": "execute_result"
    }
   ],
   "source": [
    "df_ver_filtro_true.count()"
   ]
  },
  {
   "cell_type": "code",
   "execution_count": 57,
   "id": "f1df99a8-4f85-4f58-8101-1bbdef71f41f",
   "metadata": {},
   "outputs": [],
   "source": [
    "df_ver_filtro_false=df_verificados.loc[df_verificados['user_verified']==\"False\"].drop_duplicates(subset='user_name')"
   ]
  },
  {
   "cell_type": "code",
   "execution_count": 58,
   "id": "c09bb104-9a0c-472a-8608-a2e905042736",
   "metadata": {},
   "outputs": [
    {
     "data": {
      "text/plain": [
       "user_name        440056\n",
       "user_verified    440057\n",
       "date             440057\n",
       "dtype: int64"
      ]
     },
     "execution_count": 58,
     "metadata": {},
     "output_type": "execute_result"
    }
   ],
   "source": [
    "df_ver_filtro_false.count()"
   ]
  },
  {
   "cell_type": "markdown",
   "id": "c5bfc3cf-13be-4ad7-8bf8-3620e14c09e1",
   "metadata": {},
   "source": [
    "Concluímos que a maior parte das contas não são de usuários verificados."
   ]
  },
  {
   "cell_type": "markdown",
   "id": "7ad8e689-0470-415c-a97e-5693a8c0fa80",
   "metadata": {},
   "source": [
    "#### **Origem**"
   ]
  },
  {
   "cell_type": "markdown",
   "id": "9fe70e6d-933d-4afc-b32d-bffdd5dc5e9d",
   "metadata": {},
   "source": [
    "A coluna de origem trás a informação se o usuário estava utilizando o aplicativo para celular, desktop e qual o sistema operacional. Existem mais de 2.000 valores distintos nessa coluna, o que também chama a atenção."
   ]
  },
  {
   "cell_type": "code",
   "execution_count": 59,
   "id": "e8e51531-ded5-4718-a008-30b78aee6fe8",
   "metadata": {},
   "outputs": [],
   "source": [
    "df_origem = df[['user_name','source','date']].copy()"
   ]
  },
  {
   "cell_type": "code",
   "execution_count": 60,
   "id": "47609212-57dd-4bcf-ac00-c669739bbb01",
   "metadata": {},
   "outputs": [
    {
     "data": {
      "text/plain": [
       "array(['Twitter Web App', 'Twitter for Android', 'dlvr.it', ..., 'Pilhei',\n",
       "       'justinT8', 'Cualon__'], dtype=object)"
      ]
     },
     "execution_count": 60,
     "metadata": {},
     "output_type": "execute_result"
    }
   ],
   "source": [
    "df_origem['source'].unique()"
   ]
  },
  {
   "cell_type": "code",
   "execution_count": 61,
   "id": "5e8c3f3e-2862-4412-8af7-98f7704c4a60",
   "metadata": {},
   "outputs": [],
   "source": [
    "origens=dict(collections.Counter(df['source']).most_common(50))"
   ]
  },
  {
   "cell_type": "code",
   "execution_count": 62,
   "id": "2d94d54a-b10b-4139-a279-dad196ade8ab",
   "metadata": {},
   "outputs": [
    {
     "data": {
      "text/plain": [
       "{'Twitter for Android': 850008,\n",
       " 'Twitter Web App': 728500,\n",
       " 'Twitter for iPhone': 542216,\n",
       " 'IFTTT': 42345,\n",
       " 'dlvr.it': 32564,\n",
       " 'TweetDeck': 22062,\n",
       " 'ContentStudio.io': 21602,\n",
       " 'Twitter for iPad': 17297,\n",
       " 'HoBaBot': 13137,\n",
       " 'Hootsuite Inc.': 11795,\n",
       " 'Bitcoin Whale Alert': 11439,\n",
       " 'DYORCryptoBot': 10960,\n",
       " 'exchangewhales': 10855,\n",
       " 'Buffer': 10719,\n",
       " 'bitcoinagile': 10388,\n",
       " 'Twibble.io': 9802,\n",
       " 'CoinTweety': 9632,\n",
       " 'vaiotapi': 8901,\n",
       " 'Pamboo Crypto': 8132,\n",
       " 'TwinyBots': 7873,\n",
       " 'Microsoft Power Platform': 7665,\n",
       " 'Cryptocurrency Live Prices': 7088,\n",
       " 'tictoknextblock': 7032,\n",
       " 'Zapier.com': 6726,\n",
       " 'IAmBitcoinBot': 6664,\n",
       " 'abnormal_crypto_app': 6215,\n",
       " 'SocialDog for Twitter': 5979,\n",
       " 'BlockScan': 5955,\n",
       " 'Crypto Volume Details': 5734,\n",
       " 'Revive Social App': 5401,\n",
       " 'BitSwingsTwit': 5366,\n",
       " 'BTC Status Bot': 4930,\n",
       " 'bearwhale': 4757,\n",
       " 'thinkmoon-v1.1': 4752,\n",
       " 'watchinwhales': 4731,\n",
       " 'CryptoSquawkBot': 4693,\n",
       " 'CryptoCharts Feed': 4669,\n",
       " 'ClankApp': 4579,\n",
       " 'Cheap Bots, Done Quick!': 4460,\n",
       " 'Bitmex High Trades': 4447,\n",
       " '0xनमस्ते': 4398,\n",
       " 'Bitcoin CMO': 4345,\n",
       " 'BitCoinTrackerBTC': 4166,\n",
       " nan: 3754,\n",
       " 'TwitterBot-6/15/21': 3673,\n",
       " 'mempoolBot': 3616,\n",
       " 'MarketChartsApp': 3495,\n",
       " 'btctocad': 3357,\n",
       " 'AutoTweet1976': 3323,\n",
       " 'Twitter for Mac': 3304}"
      ]
     },
     "execution_count": 62,
     "metadata": {},
     "output_type": "execute_result"
    }
   ],
   "source": [
    "origens"
   ]
  },
  {
   "cell_type": "markdown",
   "id": "dd090170-967f-48a3-a23b-586d61e99855",
   "metadata": {},
   "source": [
    "É interessante observar que os aplicativos oficiais do Twitter, como Twitter para Android e Twitter para iPhone, por exemplo, são as origens mais comuns, porém é possível observar que muitas dessas origens são de bots ou APIs. É possível separar essas origens para observar melhor quais são."
   ]
  },
  {
   "cell_type": "code",
   "execution_count": 63,
   "id": "b7b9aea1-e292-479c-88d8-a3b0bb0fb187",
   "metadata": {},
   "outputs": [],
   "source": [
    "origem_fonte=list(origens.keys())"
   ]
  },
  {
   "cell_type": "code",
   "execution_count": 64,
   "id": "e08c23fa-d064-44ab-ac13-4d6b3bce66d5",
   "metadata": {},
   "outputs": [],
   "source": [
    "origem_fonte=[str(x).lower() for x in origem_fonte]"
   ]
  },
  {
   "cell_type": "code",
   "execution_count": 65,
   "id": "0467ccc2-0c2e-4f5e-abe1-80fbb459c47c",
   "metadata": {},
   "outputs": [
    {
     "data": {
      "text/plain": [
       "['twitter for android',\n",
       " 'twitter web app',\n",
       " 'twitter for iphone',\n",
       " 'ifttt',\n",
       " 'dlvr.it',\n",
       " 'tweetdeck',\n",
       " 'contentstudio.io',\n",
       " 'twitter for ipad',\n",
       " 'hobabot',\n",
       " 'hootsuite inc.',\n",
       " 'bitcoin whale alert',\n",
       " 'dyorcryptobot',\n",
       " 'exchangewhales',\n",
       " 'buffer',\n",
       " 'bitcoinagile',\n",
       " 'twibble.io',\n",
       " 'cointweety',\n",
       " 'vaiotapi',\n",
       " 'pamboo crypto',\n",
       " 'twinybots',\n",
       " 'microsoft power platform',\n",
       " 'cryptocurrency live prices',\n",
       " 'tictoknextblock',\n",
       " 'zapier.com',\n",
       " 'iambitcoinbot',\n",
       " 'abnormal_crypto_app',\n",
       " 'socialdog for twitter',\n",
       " 'blockscan',\n",
       " 'crypto volume details',\n",
       " 'revive social app',\n",
       " 'bitswingstwit',\n",
       " 'btc status bot',\n",
       " 'bearwhale',\n",
       " 'thinkmoon-v1.1',\n",
       " 'watchinwhales',\n",
       " 'cryptosquawkbot',\n",
       " 'cryptocharts feed',\n",
       " 'clankapp',\n",
       " 'cheap bots, done quick!',\n",
       " 'bitmex high trades',\n",
       " '0xनमस्ते',\n",
       " 'bitcoin cmo',\n",
       " 'bitcointrackerbtc',\n",
       " 'nan',\n",
       " 'twitterbot-6/15/21',\n",
       " 'mempoolbot',\n",
       " 'marketchartsapp',\n",
       " 'btctocad',\n",
       " 'autotweet1976',\n",
       " 'twitter for mac']"
      ]
     },
     "execution_count": 65,
     "metadata": {},
     "output_type": "execute_result"
    }
   ],
   "source": [
    "origem_fonte"
   ]
  },
  {
   "cell_type": "code",
   "execution_count": 66,
   "id": "a0e35ce1-26b6-4b5a-bd2c-8fa47b11a899",
   "metadata": {},
   "outputs": [],
   "source": [
    "bot_api = filter(lambda origem: True if (\"bot\" in origem or \"api\"in origem) else False, origem_fonte)"
   ]
  },
  {
   "cell_type": "code",
   "execution_count": 67,
   "id": "0746e614-21e2-49e2-842e-841d9835a38c",
   "metadata": {},
   "outputs": [
    {
     "name": "stdout",
     "output_type": "stream",
     "text": [
      "['hobabot', 'dyorcryptobot', 'vaiotapi', 'twinybots', 'zapier.com', 'iambitcoinbot', 'btc status bot', 'cryptosquawkbot', 'cheap bots, done quick!', 'twitterbot-6/15/21', 'mempoolbot']\n"
     ]
    }
   ],
   "source": [
    "print(list(bot_api))"
   ]
  },
  {
   "cell_type": "markdown",
   "id": "0fbf2779-d52d-4d81-bde8-863aca53d1ed",
   "metadata": {
    "tags": []
   },
   "source": [
    "#### **Criação do Tweet**"
   ]
  },
  {
   "cell_type": "markdown",
   "id": "86209ab2-6c32-4315-a057-aeb36d9ca3e5",
   "metadata": {},
   "source": [
    "Para observar as datas de criação do tweet, vamos criar um novo dataframe com apenas os anos de criação do tweet, de maneira similar ao feito para as datas de criação das contas."
   ]
  },
  {
   "cell_type": "code",
   "execution_count": 68,
   "id": "621ecb3d-4fb4-46a7-ab0d-20619f3d95d3",
   "metadata": {},
   "outputs": [],
   "source": [
    "df_data = df[['date']].copy()"
   ]
  },
  {
   "cell_type": "code",
   "execution_count": 69,
   "id": "a1eba0d5-9c0c-4ef1-a65f-337a449bed73",
   "metadata": {},
   "outputs": [],
   "source": [
    "df_data['ano'] = df['date'].dt.year"
   ]
  },
  {
   "cell_type": "code",
   "execution_count": 70,
   "id": "ab077d81-2a8a-44d4-9a8f-b3790a1e9e47",
   "metadata": {},
   "outputs": [
    {
     "data": {
      "text/html": [
       "<div>\n",
       "<style scoped>\n",
       "    .dataframe tbody tr th:only-of-type {\n",
       "        vertical-align: middle;\n",
       "    }\n",
       "\n",
       "    .dataframe tbody tr th {\n",
       "        vertical-align: top;\n",
       "    }\n",
       "\n",
       "    .dataframe thead th {\n",
       "        text-align: right;\n",
       "    }\n",
       "</style>\n",
       "<table border=\"1\" class=\"dataframe\">\n",
       "  <thead>\n",
       "    <tr style=\"text-align: right;\">\n",
       "      <th></th>\n",
       "      <th>ano</th>\n",
       "    </tr>\n",
       "  </thead>\n",
       "  <tbody>\n",
       "    <tr>\n",
       "      <th>count</th>\n",
       "      <td>2830323.00</td>\n",
       "    </tr>\n",
       "    <tr>\n",
       "      <th>mean</th>\n",
       "      <td>2021.29</td>\n",
       "    </tr>\n",
       "    <tr>\n",
       "      <th>std</th>\n",
       "      <td>0.46</td>\n",
       "    </tr>\n",
       "    <tr>\n",
       "      <th>min</th>\n",
       "      <td>2021.00</td>\n",
       "    </tr>\n",
       "    <tr>\n",
       "      <th>25%</th>\n",
       "      <td>2021.00</td>\n",
       "    </tr>\n",
       "    <tr>\n",
       "      <th>50%</th>\n",
       "      <td>2021.00</td>\n",
       "    </tr>\n",
       "    <tr>\n",
       "      <th>75%</th>\n",
       "      <td>2022.00</td>\n",
       "    </tr>\n",
       "    <tr>\n",
       "      <th>max</th>\n",
       "      <td>2022.00</td>\n",
       "    </tr>\n",
       "  </tbody>\n",
       "</table>\n",
       "</div>"
      ],
      "text/plain": [
       "             ano\n",
       "count 2830323.00\n",
       "mean     2021.29\n",
       "std         0.46\n",
       "min      2021.00\n",
       "25%      2021.00\n",
       "50%      2021.00\n",
       "75%      2022.00\n",
       "max      2022.00"
      ]
     },
     "execution_count": 70,
     "metadata": {},
     "output_type": "execute_result"
    }
   ],
   "source": [
    "df_data.describe()"
   ]
  },
  {
   "cell_type": "markdown",
   "id": "bbc80164-26ef-4f4c-bb5f-0d373508e7c5",
   "metadata": {},
   "source": [
    "Vemos que todos os tweets foram gerados em 2021 e 2022."
   ]
  },
  {
   "cell_type": "markdown",
   "id": "995afebd-cf53-4ce5-8fd6-e36724f43e56",
   "metadata": {},
   "source": [
    "### <a name=conclusao_perfil>**Conclusão Perfil**</a>\n",
    "[Voltar ao índice](#indice)"
   ]
  },
  {
   "cell_type": "markdown",
   "id": "6af27b9e-e97a-42b2-96f5-e6853881cd8d",
   "metadata": {},
   "source": [
    "Entendemos dos dados que: \n",
    "* Aproximadamente 20% dos usuários são responsáveis por mais de 80% dos tweets; \n",
    "* A maioria dos tweets não tem localização definida, mas os que possuem são principalmente de EUA, Reino Unido, Índia, Canada e Austrália;\n",
    "* A maior parte dos tweets foram gerados por contas criadas a partir de 2016;\n",
    "* Na média, os usuários possuem 22.567 seguidores. A conta que mais possui seguidores tem mais de 24 milhões de seguidores, sendo que as contas de grandes canais de mídia são as com mais seguidores;\n",
    "* As contas possuem em média 1087 amigos e a conta que mais possui amigos tem 446.893. As contas com mais amigos são de pessoas físicas;\n",
    "* Assim como o número de amigos, as contas com mais favoritos são de pessoas físicas;\n",
    "* Concluímos que a maior parte das contas não são de usuários verificados;\n",
    "* É interessante observar que os aplicativos oficiais do Twitter, como Twitter para Android e Twitter para iPhone, por exemplo, são as origens mais comuns, porém é possível observar que muitas dessas origens são de bots ou APIs\n",
    "* Os tweets são de 2021 ou 2022."
   ]
  },
  {
   "cell_type": "markdown",
   "id": "d17301ab-a4d4-4697-976c-5c9be2e5786e",
   "metadata": {},
   "source": [
    "### <a name=desenvolvimento_sentimento>**Desenvolvimento - Análise de sentimentos**</a>\n",
    "[Voltar ao índice](#indice)"
   ]
  },
  {
   "cell_type": "markdown",
   "id": "caba7952-75f9-4192-86db-db22870084d0",
   "metadata": {},
   "source": [
    "Para fazer a análise de sentimentos, vamos pegar apenas as colunas de texto e de data do dataframe."
   ]
  },
  {
   "cell_type": "code",
   "execution_count": 71,
   "id": "b17c99f2-0267-4358-8abc-8ce2853b8139",
   "metadata": {},
   "outputs": [],
   "source": [
    "df_sent=df[['text','date']].copy()"
   ]
  },
  {
   "cell_type": "code",
   "execution_count": 72,
   "id": "39455679-22d0-4ac3-972c-c2e762089e1d",
   "metadata": {},
   "outputs": [],
   "source": [
    "df_sent.columns=['text','timestamp']"
   ]
  },
  {
   "cell_type": "code",
   "execution_count": 73,
   "id": "ab07e32d-d6b3-4568-a8d5-7b222231ad1b",
   "metadata": {},
   "outputs": [],
   "source": [
    "df_sent['dates'] = df_sent['timestamp'].dt.date\n",
    "df_sent['year'] = df_sent['timestamp'].dt.year"
   ]
  },
  {
   "cell_type": "code",
   "execution_count": 74,
   "id": "a1e0f45a-4128-49b9-b1fc-5ee52dc448df",
   "metadata": {},
   "outputs": [
    {
     "data": {
      "text/html": [
       "<div>\n",
       "<style scoped>\n",
       "    .dataframe tbody tr th:only-of-type {\n",
       "        vertical-align: middle;\n",
       "    }\n",
       "\n",
       "    .dataframe tbody tr th {\n",
       "        vertical-align: top;\n",
       "    }\n",
       "\n",
       "    .dataframe thead th {\n",
       "        text-align: right;\n",
       "    }\n",
       "</style>\n",
       "<table border=\"1\" class=\"dataframe\">\n",
       "  <thead>\n",
       "    <tr style=\"text-align: right;\">\n",
       "      <th></th>\n",
       "      <th>text</th>\n",
       "      <th>timestamp</th>\n",
       "      <th>dates</th>\n",
       "      <th>year</th>\n",
       "    </tr>\n",
       "  </thead>\n",
       "  <tbody>\n",
       "    <tr>\n",
       "      <th>0</th>\n",
       "      <td>Blue Ridge Bank shares halted by NYSE after #b...</td>\n",
       "      <td>2021-02-10 23:59:04</td>\n",
       "      <td>2021-02-10</td>\n",
       "      <td>2021.00</td>\n",
       "    </tr>\n",
       "    <tr>\n",
       "      <th>1</th>\n",
       "      <td>😎 Today, that's this #Thursday, we will do a \"...</td>\n",
       "      <td>2021-02-10 23:58:48</td>\n",
       "      <td>2021-02-10</td>\n",
       "      <td>2021.00</td>\n",
       "    </tr>\n",
       "    <tr>\n",
       "      <th>2</th>\n",
       "      <td>Guys evening, I have read this article about B...</td>\n",
       "      <td>2021-02-10 23:54:48</td>\n",
       "      <td>2021-02-10</td>\n",
       "      <td>2021.00</td>\n",
       "    </tr>\n",
       "    <tr>\n",
       "      <th>3</th>\n",
       "      <td>$BTC A big chance in a billion! Price: \\487264...</td>\n",
       "      <td>2021-02-10 23:54:33</td>\n",
       "      <td>2021-02-10</td>\n",
       "      <td>2021.00</td>\n",
       "    </tr>\n",
       "    <tr>\n",
       "      <th>4</th>\n",
       "      <td>This network is secured by 9 508 nodes as of t...</td>\n",
       "      <td>2021-02-10 23:54:06</td>\n",
       "      <td>2021-02-10</td>\n",
       "      <td>2021.00</td>\n",
       "    </tr>\n",
       "  </tbody>\n",
       "</table>\n",
       "</div>"
      ],
      "text/plain": [
       "                                                text           timestamp  \\\n",
       "0  Blue Ridge Bank shares halted by NYSE after #b... 2021-02-10 23:59:04   \n",
       "1  😎 Today, that's this #Thursday, we will do a \"... 2021-02-10 23:58:48   \n",
       "2  Guys evening, I have read this article about B... 2021-02-10 23:54:48   \n",
       "3  $BTC A big chance in a billion! Price: \\487264... 2021-02-10 23:54:33   \n",
       "4  This network is secured by 9 508 nodes as of t... 2021-02-10 23:54:06   \n",
       "\n",
       "        dates    year  \n",
       "0  2021-02-10 2021.00  \n",
       "1  2021-02-10 2021.00  \n",
       "2  2021-02-10 2021.00  \n",
       "3  2021-02-10 2021.00  \n",
       "4  2021-02-10 2021.00  "
      ]
     },
     "execution_count": 74,
     "metadata": {},
     "output_type": "execute_result"
    }
   ],
   "source": [
    "df_sent.head()"
   ]
  },
  {
   "cell_type": "markdown",
   "id": "58af13da-6156-47bc-8eb5-14929b2ff4e1",
   "metadata": {},
   "source": [
    "O primeiro passo é fazer um tratamento para remover alguns itens não desejados dos textos. Para isso, será criada uma função que será aplicada em todos os tweets."
   ]
  },
  {
   "cell_type": "code",
   "execution_count": 75,
   "id": "2084ae18-103f-4ea7-8b7e-e127580b1d8d",
   "metadata": {},
   "outputs": [],
   "source": [
    "def limparTwt(tweet):\n",
    "    tweet = re.sub(\"#bitcoin\", 'bitcoin', tweet) # remove '#' de bitcoin\n",
    "    tweet = re.sub(\"#Bitcoin\", 'Bitcoin', tweet) # remove '#' de Bitcoin\n",
    "    tweet = re.sub('#[A-Za-z0-9]+', '', tweet) # remove palavras iniciadas com '#'\n",
    "    tweet = re.sub('@[A-Za-z0-9]+', '', tweet) # remove palavras iniciadas com '@'\n",
    "    tweet = re.sub('\\\\n', '', tweet) # remove '\\n'\n",
    "    tweet = re.sub('http\\S+', '', tweet) # remove hyperlinks\n",
    "    tweet = re.sub('www\\S+', '', tweet) # remove hyperlinks\n",
    "    return tweet"
   ]
  },
  {
   "cell_type": "code",
   "execution_count": 76,
   "id": "6eae61fb-c1d1-4455-804c-f95333f4bb4f",
   "metadata": {},
   "outputs": [],
   "source": [
    "teste_t=df_sent['text'].dropna()"
   ]
  },
  {
   "cell_type": "code",
   "execution_count": 77,
   "id": "cb53d9ed-9482-4275-990f-ebf31108ba51",
   "metadata": {},
   "outputs": [],
   "source": [
    "df_sent['tweets_limpos']=teste_t.apply(limparTwt)"
   ]
  },
  {
   "cell_type": "code",
   "execution_count": 78,
   "id": "fcae4835-3fa6-48d5-bc99-7763d40cbc96",
   "metadata": {},
   "outputs": [
    {
     "data": {
      "text/html": [
       "<div>\n",
       "<style scoped>\n",
       "    .dataframe tbody tr th:only-of-type {\n",
       "        vertical-align: middle;\n",
       "    }\n",
       "\n",
       "    .dataframe tbody tr th {\n",
       "        vertical-align: top;\n",
       "    }\n",
       "\n",
       "    .dataframe thead th {\n",
       "        text-align: right;\n",
       "    }\n",
       "</style>\n",
       "<table border=\"1\" class=\"dataframe\">\n",
       "  <thead>\n",
       "    <tr style=\"text-align: right;\">\n",
       "      <th></th>\n",
       "      <th>text</th>\n",
       "      <th>timestamp</th>\n",
       "      <th>dates</th>\n",
       "      <th>year</th>\n",
       "      <th>tweets_limpos</th>\n",
       "    </tr>\n",
       "  </thead>\n",
       "  <tbody>\n",
       "    <tr>\n",
       "      <th>0</th>\n",
       "      <td>Blue Ridge Bank shares halted by NYSE after #b...</td>\n",
       "      <td>2021-02-10 23:59:04</td>\n",
       "      <td>2021-02-10</td>\n",
       "      <td>2021.00</td>\n",
       "      <td>Blue Ridge Bank shares halted by NYSE after bi...</td>\n",
       "    </tr>\n",
       "    <tr>\n",
       "      <th>1</th>\n",
       "      <td>😎 Today, that's this #Thursday, we will do a \"...</td>\n",
       "      <td>2021-02-10 23:58:48</td>\n",
       "      <td>2021-02-10</td>\n",
       "      <td>2021.00</td>\n",
       "      <td>😎 Today, that's this , we will do a \"🎬 Take 2\"...</td>\n",
       "    </tr>\n",
       "    <tr>\n",
       "      <th>2</th>\n",
       "      <td>Guys evening, I have read this article about B...</td>\n",
       "      <td>2021-02-10 23:54:48</td>\n",
       "      <td>2021-02-10</td>\n",
       "      <td>2021.00</td>\n",
       "      <td>Guys evening, I have read this article about B...</td>\n",
       "    </tr>\n",
       "    <tr>\n",
       "      <th>3</th>\n",
       "      <td>$BTC A big chance in a billion! Price: \\487264...</td>\n",
       "      <td>2021-02-10 23:54:33</td>\n",
       "      <td>2021-02-10</td>\n",
       "      <td>2021.00</td>\n",
       "      <td>$BTC A big chance in a billion! Price: \\487264...</td>\n",
       "    </tr>\n",
       "    <tr>\n",
       "      <th>4</th>\n",
       "      <td>This network is secured by 9 508 nodes as of t...</td>\n",
       "      <td>2021-02-10 23:54:06</td>\n",
       "      <td>2021-02-10</td>\n",
       "      <td>2021.00</td>\n",
       "      <td>This network is secured by 9 508 nodes as of t...</td>\n",
       "    </tr>\n",
       "  </tbody>\n",
       "</table>\n",
       "</div>"
      ],
      "text/plain": [
       "                                                text           timestamp  \\\n",
       "0  Blue Ridge Bank shares halted by NYSE after #b... 2021-02-10 23:59:04   \n",
       "1  😎 Today, that's this #Thursday, we will do a \"... 2021-02-10 23:58:48   \n",
       "2  Guys evening, I have read this article about B... 2021-02-10 23:54:48   \n",
       "3  $BTC A big chance in a billion! Price: \\487264... 2021-02-10 23:54:33   \n",
       "4  This network is secured by 9 508 nodes as of t... 2021-02-10 23:54:06   \n",
       "\n",
       "        dates    year                                      tweets_limpos  \n",
       "0  2021-02-10 2021.00  Blue Ridge Bank shares halted by NYSE after bi...  \n",
       "1  2021-02-10 2021.00  😎 Today, that's this , we will do a \"🎬 Take 2\"...  \n",
       "2  2021-02-10 2021.00  Guys evening, I have read this article about B...  \n",
       "3  2021-02-10 2021.00  $BTC A big chance in a billion! Price: \\487264...  \n",
       "4  2021-02-10 2021.00  This network is secured by 9 508 nodes as of t...  "
      ]
     },
     "execution_count": 78,
     "metadata": {},
     "output_type": "execute_result"
    }
   ],
   "source": [
    "df_sent.head()"
   ]
  },
  {
   "cell_type": "markdown",
   "id": "f53d7e50-26fa-4451-ab69-e710f54149d2",
   "metadata": {},
   "source": [
    "Agora criaremos duas colunas utilizando funções do módulo TextBlob : subjetividade e polaridade. \n",
    "<br>A subjetividade mede (de 0 à 1) se a frase é uma subjetiva(opinião) ou um fato, sendo quando maior, mais indícios de se tratar de uma opinião.\n",
    "<br>A polaridade mede (de -1 à 1) se a frase é positiva ou negativa, sendo -1 negativa, 0 neutra e 1 positiva."
   ]
  },
  {
   "cell_type": "code",
   "execution_count": 79,
   "id": "bc7a6700-1da3-420c-8431-3da71c2a5c14",
   "metadata": {},
   "outputs": [],
   "source": [
    "def buscaSub(tweet):\n",
    "    return TextBlob(tweet).sentiment.subjectivity\n",
    "\n",
    "def buscaPol(tweet):\n",
    "    return TextBlob(tweet).sentiment.polarity"
   ]
  },
  {
   "cell_type": "code",
   "execution_count": 80,
   "id": "b87d5e35-c87c-42c9-ac7a-17854308c828",
   "metadata": {},
   "outputs": [],
   "source": [
    "df_sent_limpo = df_sent['tweets_limpos'].dropna()\n",
    "df_sent['subjetividade'] = df_sent_limpo.apply(buscaSub)\n",
    "df_sent['polaridade'] = df_sent_limpo.apply(buscaPol)"
   ]
  },
  {
   "cell_type": "code",
   "execution_count": 81,
   "id": "55426d48-1bda-44d6-bdcc-5bb8ef48906a",
   "metadata": {},
   "outputs": [
    {
     "data": {
      "text/html": [
       "<div>\n",
       "<style scoped>\n",
       "    .dataframe tbody tr th:only-of-type {\n",
       "        vertical-align: middle;\n",
       "    }\n",
       "\n",
       "    .dataframe tbody tr th {\n",
       "        vertical-align: top;\n",
       "    }\n",
       "\n",
       "    .dataframe thead th {\n",
       "        text-align: right;\n",
       "    }\n",
       "</style>\n",
       "<table border=\"1\" class=\"dataframe\">\n",
       "  <thead>\n",
       "    <tr style=\"text-align: right;\">\n",
       "      <th></th>\n",
       "      <th>text</th>\n",
       "      <th>timestamp</th>\n",
       "      <th>dates</th>\n",
       "      <th>year</th>\n",
       "      <th>tweets_limpos</th>\n",
       "      <th>subjetividade</th>\n",
       "      <th>polaridade</th>\n",
       "    </tr>\n",
       "  </thead>\n",
       "  <tbody>\n",
       "    <tr>\n",
       "      <th>0</th>\n",
       "      <td>Blue Ridge Bank shares halted by NYSE after #b...</td>\n",
       "      <td>2021-02-10 23:59:04</td>\n",
       "      <td>2021-02-10</td>\n",
       "      <td>2021.00</td>\n",
       "      <td>Blue Ridge Bank shares halted by NYSE after bi...</td>\n",
       "      <td>0.10</td>\n",
       "      <td>0.00</td>\n",
       "    </tr>\n",
       "    <tr>\n",
       "      <th>1</th>\n",
       "      <td>😎 Today, that's this #Thursday, we will do a \"...</td>\n",
       "      <td>2021-02-10 23:58:48</td>\n",
       "      <td>2021-02-10</td>\n",
       "      <td>2021.00</td>\n",
       "      <td>😎 Today, that's this , we will do a \"🎬 Take 2\"...</td>\n",
       "      <td>0.00</td>\n",
       "      <td>0.00</td>\n",
       "    </tr>\n",
       "    <tr>\n",
       "      <th>2</th>\n",
       "      <td>Guys evening, I have read this article about B...</td>\n",
       "      <td>2021-02-10 23:54:48</td>\n",
       "      <td>2021-02-10</td>\n",
       "      <td>2021.00</td>\n",
       "      <td>Guys evening, I have read this article about B...</td>\n",
       "      <td>0.00</td>\n",
       "      <td>0.00</td>\n",
       "    </tr>\n",
       "    <tr>\n",
       "      <th>3</th>\n",
       "      <td>$BTC A big chance in a billion! Price: \\487264...</td>\n",
       "      <td>2021-02-10 23:54:33</td>\n",
       "      <td>2021-02-10</td>\n",
       "      <td>2021.00</td>\n",
       "      <td>$BTC A big chance in a billion! Price: \\487264...</td>\n",
       "      <td>0.10</td>\n",
       "      <td>0.00</td>\n",
       "    </tr>\n",
       "    <tr>\n",
       "      <th>4</th>\n",
       "      <td>This network is secured by 9 508 nodes as of t...</td>\n",
       "      <td>2021-02-10 23:54:06</td>\n",
       "      <td>2021-02-10</td>\n",
       "      <td>2021.00</td>\n",
       "      <td>This network is secured by 9 508 nodes as of t...</td>\n",
       "      <td>0.10</td>\n",
       "      <td>0.00</td>\n",
       "    </tr>\n",
       "    <tr>\n",
       "      <th>5</th>\n",
       "      <td>💹 Trade #Crypto on #Binance \\n\\n📌 Enjoy #Cashb...</td>\n",
       "      <td>2021-02-10 23:53:30</td>\n",
       "      <td>2021-02-10</td>\n",
       "      <td>2021.00</td>\n",
       "      <td>💹 Trade  on  📌 Enjoy  10% of the Trading fee📌 ...</td>\n",
       "      <td>0.50</td>\n",
       "      <td>0.40</td>\n",
       "    </tr>\n",
       "    <tr>\n",
       "      <th>6</th>\n",
       "      <td>&amp;lt;'fire' &amp;amp; 'man'&amp;gt;\\n#Bitcoin #Crypto #...</td>\n",
       "      <td>2021-02-10 23:53:17</td>\n",
       "      <td>2021-02-10</td>\n",
       "      <td>2021.00</td>\n",
       "      <td>&amp;lt;'fire' &amp;amp; 'man'&amp;gt;Bitcoin</td>\n",
       "      <td>0.00</td>\n",
       "      <td>0.00</td>\n",
       "    </tr>\n",
       "    <tr>\n",
       "      <th>7</th>\n",
       "      <td>🔄 Prices update in $EUR (1 hour):\\n\\n$BTC   - ...</td>\n",
       "      <td>2021-02-10 23:52:42</td>\n",
       "      <td>2021-02-10</td>\n",
       "      <td>2021.00</td>\n",
       "      <td>🔄 Prices update in $EUR (1 hour):$BTC   - 3708...</td>\n",
       "      <td>0.00</td>\n",
       "      <td>0.00</td>\n",
       "    </tr>\n",
       "    <tr>\n",
       "      <th>8</th>\n",
       "      <td>#BTC #Bitcoin #Ethereum #ETH #Crypto #cryptotr...</td>\n",
       "      <td>2021-02-10 23:52:25</td>\n",
       "      <td>2021-02-10</td>\n",
       "      <td>2021.00</td>\n",
       "      <td>Bitcoin     $RSR I know i told you guys the t...</td>\n",
       "      <td>0.00</td>\n",
       "      <td>0.00</td>\n",
       "    </tr>\n",
       "    <tr>\n",
       "      <th>9</th>\n",
       "      <td>.@Tesla’s #bitcoin investment is revolutionary...</td>\n",
       "      <td>2021-02-10 23:52:08</td>\n",
       "      <td>2021-02-10</td>\n",
       "      <td>2021.00</td>\n",
       "      <td>.’s bitcoin investment is revolutionary for  b...</td>\n",
       "      <td>0.25</td>\n",
       "      <td>-0.06</td>\n",
       "    </tr>\n",
       "    <tr>\n",
       "      <th>10</th>\n",
       "      <td>Annnd #btc #Bitcoin is headed even higher now....</td>\n",
       "      <td>2021-02-10 23:52:04</td>\n",
       "      <td>2021-02-10</td>\n",
       "      <td>2021.00</td>\n",
       "      <td>Annnd  Bitcoin is headed even higher now...</td>\n",
       "      <td>0.50</td>\n",
       "      <td>0.25</td>\n",
       "    </tr>\n",
       "    <tr>\n",
       "      <th>11</th>\n",
       "      <td>🔄 Prices update in $USDT (1 hour):\\n\\n$BTC - 4...</td>\n",
       "      <td>2021-02-10 23:51:25</td>\n",
       "      <td>2021-02-10</td>\n",
       "      <td>2021.00</td>\n",
       "      <td>🔄 Prices update in $USDT (1 hour):$BTC - 44853...</td>\n",
       "      <td>0.00</td>\n",
       "      <td>0.00</td>\n",
       "    </tr>\n",
       "    <tr>\n",
       "      <th>12</th>\n",
       "      <td>Join our first virtual crypto meetup of 2021 -...</td>\n",
       "      <td>2021-02-10 23:50:59</td>\n",
       "      <td>2021-02-10</td>\n",
       "      <td>2021.00</td>\n",
       "      <td>Join our first virtual crypto meetup of 2021 -...</td>\n",
       "      <td>0.33</td>\n",
       "      <td>0.25</td>\n",
       "    </tr>\n",
       "    <tr>\n",
       "      <th>13</th>\n",
       "      <td>#Bitcoin #BTC $BTC $GBTC $RIOT $MARA $ETH $ETH...</td>\n",
       "      <td>2021-02-10 23:50:30</td>\n",
       "      <td>2021-02-10</td>\n",
       "      <td>2021.00</td>\n",
       "      <td>Bitcoin  $BTC $GBTC $RIOT $MARA $ETH $ETHE   $...</td>\n",
       "      <td>0.00</td>\n",
       "      <td>0.00</td>\n",
       "    </tr>\n",
       "    <tr>\n",
       "      <th>14</th>\n",
       "      <td>⬆️⬆️ $BTC BUYING PRESSURE ALERT 📈 Price tradin...</td>\n",
       "      <td>2021-02-10 23:50:02</td>\n",
       "      <td>2021-02-10</td>\n",
       "      <td>2021.00</td>\n",
       "      <td>⬆️⬆️ $BTC BUYING PRESSURE ALERT 📈 Price tradin...</td>\n",
       "      <td>0.00</td>\n",
       "      <td>0.00</td>\n",
       "    </tr>\n",
       "    <tr>\n",
       "      <th>15</th>\n",
       "      <td>Buy #Bitcoin with 5% LIFETIME cashback on fees...</td>\n",
       "      <td>2021-02-10 23:48:38</td>\n",
       "      <td>2021-02-10</td>\n",
       "      <td>2021.00</td>\n",
       "      <td>Buy Bitcoin with 5% LIFETIME cashback on fees ...</td>\n",
       "      <td>0.00</td>\n",
       "      <td>0.00</td>\n",
       "    </tr>\n",
       "    <tr>\n",
       "      <th>16</th>\n",
       "      <td>@naval #BTC is unconfiscatable \\n\\nAll roads l...</td>\n",
       "      <td>2021-02-10 23:48:37</td>\n",
       "      <td>2021-02-10</td>\n",
       "      <td>2021.00</td>\n",
       "      <td>is unconfiscatable All roads lead to Bitcoin</td>\n",
       "      <td>0.00</td>\n",
       "      <td>0.00</td>\n",
       "    </tr>\n",
       "    <tr>\n",
       "      <th>17</th>\n",
       "      <td>$BTC A big chance in a million! Price: \\489863...</td>\n",
       "      <td>2021-02-10 23:47:32</td>\n",
       "      <td>2021-02-10</td>\n",
       "      <td>2021.00</td>\n",
       "      <td>$BTC A big chance in a million! Price: \\489863...</td>\n",
       "      <td>0.10</td>\n",
       "      <td>0.00</td>\n",
       "    </tr>\n",
       "    <tr>\n",
       "      <th>18</th>\n",
       "      <td>#Bitcoin institutional demand accelerates in 2...</td>\n",
       "      <td>2021-02-10 23:47:13</td>\n",
       "      <td>2021-02-10</td>\n",
       "      <td>2021.00</td>\n",
       "      <td>Bitcoin institutional demand accelerates in 20...</td>\n",
       "      <td>0.00</td>\n",
       "      <td>0.00</td>\n",
       "    </tr>\n",
       "    <tr>\n",
       "      <th>19</th>\n",
       "      <td>Signal: $TFUEL\\n#TFUEL #ThetaFuel #Binance #Cr...</td>\n",
       "      <td>2021-02-10 23:46:39</td>\n",
       "      <td>2021-02-10</td>\n",
       "      <td>2021.00</td>\n",
       "      <td>Signal: $TFUEL       Bitcoin</td>\n",
       "      <td>0.00</td>\n",
       "      <td>0.00</td>\n",
       "    </tr>\n",
       "    <tr>\n",
       "      <th>20</th>\n",
       "      <td>$ADA Sky rocket 🔥🚀 #Patience 🔑\\n$1 Soon !!! \\n...</td>\n",
       "      <td>2021-02-10 23:46:23</td>\n",
       "      <td>2021-02-10</td>\n",
       "      <td>2021.00</td>\n",
       "      <td>$ADA Sky rocket 🔥🚀  🔑$1 Soon !!!    bitcoin</td>\n",
       "      <td>0.00</td>\n",
       "      <td>0.00</td>\n",
       "    </tr>\n",
       "    <tr>\n",
       "      <th>21</th>\n",
       "      <td>Forget all you know about #cryptocurrency \\nTh...</td>\n",
       "      <td>2021-02-10 23:46:17</td>\n",
       "      <td>2021-02-10</td>\n",
       "      <td>2021.00</td>\n",
       "      <td>Forget all you know about  These 6 coins are l...</td>\n",
       "      <td>0.30</td>\n",
       "      <td>0.20</td>\n",
       "    </tr>\n",
       "    <tr>\n",
       "      <th>22</th>\n",
       "      <td>$ADA Sky rocket 🔥🚀 #Patience 🔑\\n$1 Soon !!! \\n...</td>\n",
       "      <td>2021-02-10 23:45:20</td>\n",
       "      <td>2021-02-10</td>\n",
       "      <td>2021.00</td>\n",
       "      <td>$ADA Sky rocket 🔥🚀  🔑$1 Soon !!!    bitcoin</td>\n",
       "      <td>0.00</td>\n",
       "      <td>0.00</td>\n",
       "    </tr>\n",
       "    <tr>\n",
       "      <th>23</th>\n",
       "      <td>#Bitcoin’s Rally Signals the Rise of Digital A...</td>\n",
       "      <td>2021-02-10 23:45:03</td>\n",
       "      <td>2021-02-10</td>\n",
       "      <td>2021.00</td>\n",
       "      <td>Bitcoin’s Rally Signals the Rise of Digital As...</td>\n",
       "      <td>0.20</td>\n",
       "      <td>-0.20</td>\n",
       "    </tr>\n",
       "    <tr>\n",
       "      <th>24</th>\n",
       "      <td>The writing is on the wall, and you are ignori...</td>\n",
       "      <td>2021-02-10 23:44:57</td>\n",
       "      <td>2021-02-10</td>\n",
       "      <td>2021.00</td>\n",
       "      <td>The writing is on the wall, and you are ignori...</td>\n",
       "      <td>0.00</td>\n",
       "      <td>0.00</td>\n",
       "    </tr>\n",
       "    <tr>\n",
       "      <th>25</th>\n",
       "      <td>#Bitcoin #BTC #ADA #DOT Mastercard Will Let Me...</td>\n",
       "      <td>2021-02-10 23:44:43</td>\n",
       "      <td>2021-02-10</td>\n",
       "      <td>2021.00</td>\n",
       "      <td>Bitcoin    Mastercard Will Let Merchants Accep...</td>\n",
       "      <td>0.00</td>\n",
       "      <td>0.00</td>\n",
       "    </tr>\n",
       "    <tr>\n",
       "      <th>26</th>\n",
       "      <td>After @Tesla: @Twitter considers adding #bitco...</td>\n",
       "      <td>2021-02-10 23:44:02</td>\n",
       "      <td>2021-02-10</td>\n",
       "      <td>2021.00</td>\n",
       "      <td>After :  considers adding bitcoin to its balan...</td>\n",
       "      <td>0.00</td>\n",
       "      <td>0.00</td>\n",
       "    </tr>\n",
       "    <tr>\n",
       "      <th>27</th>\n",
       "      <td>$ASKO has been nothing short of a wild ride .....</td>\n",
       "      <td>2021-02-10 23:44:02</td>\n",
       "      <td>2021-02-10</td>\n",
       "      <td>2021.00</td>\n",
       "      <td>$ASKO has been nothing short of a wild ride .....</td>\n",
       "      <td>0.31</td>\n",
       "      <td>-0.14</td>\n",
       "    </tr>\n",
       "    <tr>\n",
       "      <th>28</th>\n",
       "      <td>Let's go $yfi... Let's make this happen before...</td>\n",
       "      <td>2021-02-10 23:42:49</td>\n",
       "      <td>2021-02-10</td>\n",
       "      <td>2021.00</td>\n",
       "      <td>Let's go $yfi... Let's make this happen before...</td>\n",
       "      <td>0.00</td>\n",
       "      <td>0.00</td>\n",
       "    </tr>\n",
       "    <tr>\n",
       "      <th>29</th>\n",
       "      <td>Binance is the #1 crypto trading platform for ...</td>\n",
       "      <td>2021-02-10 23:42:22</td>\n",
       "      <td>2021-02-10</td>\n",
       "      <td>2021.00</td>\n",
       "      <td>Binance is the  crypto trading platform for bo...</td>\n",
       "      <td>0.00</td>\n",
       "      <td>0.00</td>\n",
       "    </tr>\n",
       "  </tbody>\n",
       "</table>\n",
       "</div>"
      ],
      "text/plain": [
       "                                                 text           timestamp  \\\n",
       "0   Blue Ridge Bank shares halted by NYSE after #b... 2021-02-10 23:59:04   \n",
       "1   😎 Today, that's this #Thursday, we will do a \"... 2021-02-10 23:58:48   \n",
       "2   Guys evening, I have read this article about B... 2021-02-10 23:54:48   \n",
       "3   $BTC A big chance in a billion! Price: \\487264... 2021-02-10 23:54:33   \n",
       "4   This network is secured by 9 508 nodes as of t... 2021-02-10 23:54:06   \n",
       "5   💹 Trade #Crypto on #Binance \\n\\n📌 Enjoy #Cashb... 2021-02-10 23:53:30   \n",
       "6   &lt;'fire' &amp; 'man'&gt;\\n#Bitcoin #Crypto #... 2021-02-10 23:53:17   \n",
       "7   🔄 Prices update in $EUR (1 hour):\\n\\n$BTC   - ... 2021-02-10 23:52:42   \n",
       "8   #BTC #Bitcoin #Ethereum #ETH #Crypto #cryptotr... 2021-02-10 23:52:25   \n",
       "9   .@Tesla’s #bitcoin investment is revolutionary... 2021-02-10 23:52:08   \n",
       "10  Annnd #btc #Bitcoin is headed even higher now.... 2021-02-10 23:52:04   \n",
       "11  🔄 Prices update in $USDT (1 hour):\\n\\n$BTC - 4... 2021-02-10 23:51:25   \n",
       "12  Join our first virtual crypto meetup of 2021 -... 2021-02-10 23:50:59   \n",
       "13  #Bitcoin #BTC $BTC $GBTC $RIOT $MARA $ETH $ETH... 2021-02-10 23:50:30   \n",
       "14  ⬆️⬆️ $BTC BUYING PRESSURE ALERT 📈 Price tradin... 2021-02-10 23:50:02   \n",
       "15  Buy #Bitcoin with 5% LIFETIME cashback on fees... 2021-02-10 23:48:38   \n",
       "16  @naval #BTC is unconfiscatable \\n\\nAll roads l... 2021-02-10 23:48:37   \n",
       "17  $BTC A big chance in a million! Price: \\489863... 2021-02-10 23:47:32   \n",
       "18  #Bitcoin institutional demand accelerates in 2... 2021-02-10 23:47:13   \n",
       "19  Signal: $TFUEL\\n#TFUEL #ThetaFuel #Binance #Cr... 2021-02-10 23:46:39   \n",
       "20  $ADA Sky rocket 🔥🚀 #Patience 🔑\\n$1 Soon !!! \\n... 2021-02-10 23:46:23   \n",
       "21  Forget all you know about #cryptocurrency \\nTh... 2021-02-10 23:46:17   \n",
       "22  $ADA Sky rocket 🔥🚀 #Patience 🔑\\n$1 Soon !!! \\n... 2021-02-10 23:45:20   \n",
       "23  #Bitcoin’s Rally Signals the Rise of Digital A... 2021-02-10 23:45:03   \n",
       "24  The writing is on the wall, and you are ignori... 2021-02-10 23:44:57   \n",
       "25  #Bitcoin #BTC #ADA #DOT Mastercard Will Let Me... 2021-02-10 23:44:43   \n",
       "26  After @Tesla: @Twitter considers adding #bitco... 2021-02-10 23:44:02   \n",
       "27  $ASKO has been nothing short of a wild ride ..... 2021-02-10 23:44:02   \n",
       "28  Let's go $yfi... Let's make this happen before... 2021-02-10 23:42:49   \n",
       "29  Binance is the #1 crypto trading platform for ... 2021-02-10 23:42:22   \n",
       "\n",
       "         dates    year                                      tweets_limpos  \\\n",
       "0   2021-02-10 2021.00  Blue Ridge Bank shares halted by NYSE after bi...   \n",
       "1   2021-02-10 2021.00  😎 Today, that's this , we will do a \"🎬 Take 2\"...   \n",
       "2   2021-02-10 2021.00  Guys evening, I have read this article about B...   \n",
       "3   2021-02-10 2021.00  $BTC A big chance in a billion! Price: \\487264...   \n",
       "4   2021-02-10 2021.00  This network is secured by 9 508 nodes as of t...   \n",
       "5   2021-02-10 2021.00  💹 Trade  on  📌 Enjoy  10% of the Trading fee📌 ...   \n",
       "6   2021-02-10 2021.00               &lt;'fire' &amp; 'man'&gt;Bitcoin      \n",
       "7   2021-02-10 2021.00  🔄 Prices update in $EUR (1 hour):$BTC   - 3708...   \n",
       "8   2021-02-10 2021.00   Bitcoin     $RSR I know i told you guys the t...   \n",
       "9   2021-02-10 2021.00  .’s bitcoin investment is revolutionary for  b...   \n",
       "10  2021-02-10 2021.00       Annnd  Bitcoin is headed even higher now...    \n",
       "11  2021-02-10 2021.00  🔄 Prices update in $USDT (1 hour):$BTC - 44853...   \n",
       "12  2021-02-10 2021.00  Join our first virtual crypto meetup of 2021 -...   \n",
       "13  2021-02-10 2021.00  Bitcoin  $BTC $GBTC $RIOT $MARA $ETH $ETHE   $...   \n",
       "14  2021-02-10 2021.00  ⬆️⬆️ $BTC BUYING PRESSURE ALERT 📈 Price tradin...   \n",
       "15  2021-02-10 2021.00  Buy Bitcoin with 5% LIFETIME cashback on fees ...   \n",
       "16  2021-02-10 2021.00       is unconfiscatable All roads lead to Bitcoin   \n",
       "17  2021-02-10 2021.00  $BTC A big chance in a million! Price: \\489863...   \n",
       "18  2021-02-10 2021.00  Bitcoin institutional demand accelerates in 20...   \n",
       "19  2021-02-10 2021.00                      Signal: $TFUEL       Bitcoin    \n",
       "20  2021-02-10 2021.00      $ADA Sky rocket 🔥🚀  🔑$1 Soon !!!    bitcoin     \n",
       "21  2021-02-10 2021.00  Forget all you know about  These 6 coins are l...   \n",
       "22  2021-02-10 2021.00      $ADA Sky rocket 🔥🚀  🔑$1 Soon !!!    bitcoin     \n",
       "23  2021-02-10 2021.00  Bitcoin’s Rally Signals the Rise of Digital As...   \n",
       "24  2021-02-10 2021.00  The writing is on the wall, and you are ignori...   \n",
       "25  2021-02-10 2021.00  Bitcoin    Mastercard Will Let Merchants Accep...   \n",
       "26  2021-02-10 2021.00  After :  considers adding bitcoin to its balan...   \n",
       "27  2021-02-10 2021.00  $ASKO has been nothing short of a wild ride .....   \n",
       "28  2021-02-10 2021.00  Let's go $yfi... Let's make this happen before...   \n",
       "29  2021-02-10 2021.00  Binance is the  crypto trading platform for bo...   \n",
       "\n",
       "    subjetividade  polaridade  \n",
       "0            0.10        0.00  \n",
       "1            0.00        0.00  \n",
       "2            0.00        0.00  \n",
       "3            0.10        0.00  \n",
       "4            0.10        0.00  \n",
       "5            0.50        0.40  \n",
       "6            0.00        0.00  \n",
       "7            0.00        0.00  \n",
       "8            0.00        0.00  \n",
       "9            0.25       -0.06  \n",
       "10           0.50        0.25  \n",
       "11           0.00        0.00  \n",
       "12           0.33        0.25  \n",
       "13           0.00        0.00  \n",
       "14           0.00        0.00  \n",
       "15           0.00        0.00  \n",
       "16           0.00        0.00  \n",
       "17           0.10        0.00  \n",
       "18           0.00        0.00  \n",
       "19           0.00        0.00  \n",
       "20           0.00        0.00  \n",
       "21           0.30        0.20  \n",
       "22           0.00        0.00  \n",
       "23           0.20       -0.20  \n",
       "24           0.00        0.00  \n",
       "25           0.00        0.00  \n",
       "26           0.00        0.00  \n",
       "27           0.31       -0.14  \n",
       "28           0.00        0.00  \n",
       "29           0.00        0.00  "
      ]
     },
     "execution_count": 81,
     "metadata": {},
     "output_type": "execute_result"
    }
   ],
   "source": [
    "df_sent.head(30)"
   ]
  },
  {
   "cell_type": "markdown",
   "id": "09974ae8-f84e-436e-af68-b616f91b63af",
   "metadata": {},
   "source": [
    "Vamos agora criar uma coluna que categoriza o tweet de acordo com a polaridade, sendo:\n",
    "* maior que 0, positivo;\n",
    "* igual a 0, neutro;\n",
    "* menor que 0, negativo."
   ]
  },
  {
   "cell_type": "code",
   "execution_count": 82,
   "id": "536e574a-045c-4cfe-8565-cd9ca71abc6a",
   "metadata": {},
   "outputs": [],
   "source": [
    "def classificaSent(posit):\n",
    "    if posit < 0:\n",
    "        return \"negativo\"\n",
    "    elif posit == 0:\n",
    "        return \"neutro\"\n",
    "    else:\n",
    "        return \"positivo\""
   ]
  },
  {
   "cell_type": "code",
   "execution_count": 83,
   "id": "af01e7d2-d922-4d57-813d-147dbcf28495",
   "metadata": {},
   "outputs": [],
   "source": [
    "df_sent['sentimento'] = df_sent['polaridade'].apply(classificaSent)"
   ]
  },
  {
   "cell_type": "code",
   "execution_count": 84,
   "id": "038a1b68-e84e-4801-b226-2c457f193738",
   "metadata": {},
   "outputs": [
    {
     "data": {
      "text/html": [
       "<div>\n",
       "<style scoped>\n",
       "    .dataframe tbody tr th:only-of-type {\n",
       "        vertical-align: middle;\n",
       "    }\n",
       "\n",
       "    .dataframe tbody tr th {\n",
       "        vertical-align: top;\n",
       "    }\n",
       "\n",
       "    .dataframe thead th {\n",
       "        text-align: right;\n",
       "    }\n",
       "</style>\n",
       "<table border=\"1\" class=\"dataframe\">\n",
       "  <thead>\n",
       "    <tr style=\"text-align: right;\">\n",
       "      <th></th>\n",
       "      <th>text</th>\n",
       "      <th>timestamp</th>\n",
       "      <th>dates</th>\n",
       "      <th>year</th>\n",
       "      <th>tweets_limpos</th>\n",
       "      <th>subjetividade</th>\n",
       "      <th>polaridade</th>\n",
       "      <th>sentimento</th>\n",
       "    </tr>\n",
       "  </thead>\n",
       "  <tbody>\n",
       "    <tr>\n",
       "      <th>0</th>\n",
       "      <td>Blue Ridge Bank shares halted by NYSE after #b...</td>\n",
       "      <td>2021-02-10 23:59:04</td>\n",
       "      <td>2021-02-10</td>\n",
       "      <td>2021.00</td>\n",
       "      <td>Blue Ridge Bank shares halted by NYSE after bi...</td>\n",
       "      <td>0.10</td>\n",
       "      <td>0.00</td>\n",
       "      <td>neutro</td>\n",
       "    </tr>\n",
       "    <tr>\n",
       "      <th>1</th>\n",
       "      <td>😎 Today, that's this #Thursday, we will do a \"...</td>\n",
       "      <td>2021-02-10 23:58:48</td>\n",
       "      <td>2021-02-10</td>\n",
       "      <td>2021.00</td>\n",
       "      <td>😎 Today, that's this , we will do a \"🎬 Take 2\"...</td>\n",
       "      <td>0.00</td>\n",
       "      <td>0.00</td>\n",
       "      <td>neutro</td>\n",
       "    </tr>\n",
       "    <tr>\n",
       "      <th>2</th>\n",
       "      <td>Guys evening, I have read this article about B...</td>\n",
       "      <td>2021-02-10 23:54:48</td>\n",
       "      <td>2021-02-10</td>\n",
       "      <td>2021.00</td>\n",
       "      <td>Guys evening, I have read this article about B...</td>\n",
       "      <td>0.00</td>\n",
       "      <td>0.00</td>\n",
       "      <td>neutro</td>\n",
       "    </tr>\n",
       "    <tr>\n",
       "      <th>3</th>\n",
       "      <td>$BTC A big chance in a billion! Price: \\487264...</td>\n",
       "      <td>2021-02-10 23:54:33</td>\n",
       "      <td>2021-02-10</td>\n",
       "      <td>2021.00</td>\n",
       "      <td>$BTC A big chance in a billion! Price: \\487264...</td>\n",
       "      <td>0.10</td>\n",
       "      <td>0.00</td>\n",
       "      <td>neutro</td>\n",
       "    </tr>\n",
       "    <tr>\n",
       "      <th>4</th>\n",
       "      <td>This network is secured by 9 508 nodes as of t...</td>\n",
       "      <td>2021-02-10 23:54:06</td>\n",
       "      <td>2021-02-10</td>\n",
       "      <td>2021.00</td>\n",
       "      <td>This network is secured by 9 508 nodes as of t...</td>\n",
       "      <td>0.10</td>\n",
       "      <td>0.00</td>\n",
       "      <td>neutro</td>\n",
       "    </tr>\n",
       "    <tr>\n",
       "      <th>5</th>\n",
       "      <td>💹 Trade #Crypto on #Binance \\n\\n📌 Enjoy #Cashb...</td>\n",
       "      <td>2021-02-10 23:53:30</td>\n",
       "      <td>2021-02-10</td>\n",
       "      <td>2021.00</td>\n",
       "      <td>💹 Trade  on  📌 Enjoy  10% of the Trading fee📌 ...</td>\n",
       "      <td>0.50</td>\n",
       "      <td>0.40</td>\n",
       "      <td>positivo</td>\n",
       "    </tr>\n",
       "    <tr>\n",
       "      <th>6</th>\n",
       "      <td>&amp;lt;'fire' &amp;amp; 'man'&amp;gt;\\n#Bitcoin #Crypto #...</td>\n",
       "      <td>2021-02-10 23:53:17</td>\n",
       "      <td>2021-02-10</td>\n",
       "      <td>2021.00</td>\n",
       "      <td>&amp;lt;'fire' &amp;amp; 'man'&amp;gt;Bitcoin</td>\n",
       "      <td>0.00</td>\n",
       "      <td>0.00</td>\n",
       "      <td>neutro</td>\n",
       "    </tr>\n",
       "    <tr>\n",
       "      <th>7</th>\n",
       "      <td>🔄 Prices update in $EUR (1 hour):\\n\\n$BTC   - ...</td>\n",
       "      <td>2021-02-10 23:52:42</td>\n",
       "      <td>2021-02-10</td>\n",
       "      <td>2021.00</td>\n",
       "      <td>🔄 Prices update in $EUR (1 hour):$BTC   - 3708...</td>\n",
       "      <td>0.00</td>\n",
       "      <td>0.00</td>\n",
       "      <td>neutro</td>\n",
       "    </tr>\n",
       "    <tr>\n",
       "      <th>8</th>\n",
       "      <td>#BTC #Bitcoin #Ethereum #ETH #Crypto #cryptotr...</td>\n",
       "      <td>2021-02-10 23:52:25</td>\n",
       "      <td>2021-02-10</td>\n",
       "      <td>2021.00</td>\n",
       "      <td>Bitcoin     $RSR I know i told you guys the t...</td>\n",
       "      <td>0.00</td>\n",
       "      <td>0.00</td>\n",
       "      <td>neutro</td>\n",
       "    </tr>\n",
       "    <tr>\n",
       "      <th>9</th>\n",
       "      <td>.@Tesla’s #bitcoin investment is revolutionary...</td>\n",
       "      <td>2021-02-10 23:52:08</td>\n",
       "      <td>2021-02-10</td>\n",
       "      <td>2021.00</td>\n",
       "      <td>.’s bitcoin investment is revolutionary for  b...</td>\n",
       "      <td>0.25</td>\n",
       "      <td>-0.06</td>\n",
       "      <td>negativo</td>\n",
       "    </tr>\n",
       "    <tr>\n",
       "      <th>10</th>\n",
       "      <td>Annnd #btc #Bitcoin is headed even higher now....</td>\n",
       "      <td>2021-02-10 23:52:04</td>\n",
       "      <td>2021-02-10</td>\n",
       "      <td>2021.00</td>\n",
       "      <td>Annnd  Bitcoin is headed even higher now...</td>\n",
       "      <td>0.50</td>\n",
       "      <td>0.25</td>\n",
       "      <td>positivo</td>\n",
       "    </tr>\n",
       "    <tr>\n",
       "      <th>11</th>\n",
       "      <td>🔄 Prices update in $USDT (1 hour):\\n\\n$BTC - 4...</td>\n",
       "      <td>2021-02-10 23:51:25</td>\n",
       "      <td>2021-02-10</td>\n",
       "      <td>2021.00</td>\n",
       "      <td>🔄 Prices update in $USDT (1 hour):$BTC - 44853...</td>\n",
       "      <td>0.00</td>\n",
       "      <td>0.00</td>\n",
       "      <td>neutro</td>\n",
       "    </tr>\n",
       "    <tr>\n",
       "      <th>12</th>\n",
       "      <td>Join our first virtual crypto meetup of 2021 -...</td>\n",
       "      <td>2021-02-10 23:50:59</td>\n",
       "      <td>2021-02-10</td>\n",
       "      <td>2021.00</td>\n",
       "      <td>Join our first virtual crypto meetup of 2021 -...</td>\n",
       "      <td>0.33</td>\n",
       "      <td>0.25</td>\n",
       "      <td>positivo</td>\n",
       "    </tr>\n",
       "    <tr>\n",
       "      <th>13</th>\n",
       "      <td>#Bitcoin #BTC $BTC $GBTC $RIOT $MARA $ETH $ETH...</td>\n",
       "      <td>2021-02-10 23:50:30</td>\n",
       "      <td>2021-02-10</td>\n",
       "      <td>2021.00</td>\n",
       "      <td>Bitcoin  $BTC $GBTC $RIOT $MARA $ETH $ETHE   $...</td>\n",
       "      <td>0.00</td>\n",
       "      <td>0.00</td>\n",
       "      <td>neutro</td>\n",
       "    </tr>\n",
       "    <tr>\n",
       "      <th>14</th>\n",
       "      <td>⬆️⬆️ $BTC BUYING PRESSURE ALERT 📈 Price tradin...</td>\n",
       "      <td>2021-02-10 23:50:02</td>\n",
       "      <td>2021-02-10</td>\n",
       "      <td>2021.00</td>\n",
       "      <td>⬆️⬆️ $BTC BUYING PRESSURE ALERT 📈 Price tradin...</td>\n",
       "      <td>0.00</td>\n",
       "      <td>0.00</td>\n",
       "      <td>neutro</td>\n",
       "    </tr>\n",
       "    <tr>\n",
       "      <th>15</th>\n",
       "      <td>Buy #Bitcoin with 5% LIFETIME cashback on fees...</td>\n",
       "      <td>2021-02-10 23:48:38</td>\n",
       "      <td>2021-02-10</td>\n",
       "      <td>2021.00</td>\n",
       "      <td>Buy Bitcoin with 5% LIFETIME cashback on fees ...</td>\n",
       "      <td>0.00</td>\n",
       "      <td>0.00</td>\n",
       "      <td>neutro</td>\n",
       "    </tr>\n",
       "    <tr>\n",
       "      <th>16</th>\n",
       "      <td>@naval #BTC is unconfiscatable \\n\\nAll roads l...</td>\n",
       "      <td>2021-02-10 23:48:37</td>\n",
       "      <td>2021-02-10</td>\n",
       "      <td>2021.00</td>\n",
       "      <td>is unconfiscatable All roads lead to Bitcoin</td>\n",
       "      <td>0.00</td>\n",
       "      <td>0.00</td>\n",
       "      <td>neutro</td>\n",
       "    </tr>\n",
       "    <tr>\n",
       "      <th>17</th>\n",
       "      <td>$BTC A big chance in a million! Price: \\489863...</td>\n",
       "      <td>2021-02-10 23:47:32</td>\n",
       "      <td>2021-02-10</td>\n",
       "      <td>2021.00</td>\n",
       "      <td>$BTC A big chance in a million! Price: \\489863...</td>\n",
       "      <td>0.10</td>\n",
       "      <td>0.00</td>\n",
       "      <td>neutro</td>\n",
       "    </tr>\n",
       "    <tr>\n",
       "      <th>18</th>\n",
       "      <td>#Bitcoin institutional demand accelerates in 2...</td>\n",
       "      <td>2021-02-10 23:47:13</td>\n",
       "      <td>2021-02-10</td>\n",
       "      <td>2021.00</td>\n",
       "      <td>Bitcoin institutional demand accelerates in 20...</td>\n",
       "      <td>0.00</td>\n",
       "      <td>0.00</td>\n",
       "      <td>neutro</td>\n",
       "    </tr>\n",
       "    <tr>\n",
       "      <th>19</th>\n",
       "      <td>Signal: $TFUEL\\n#TFUEL #ThetaFuel #Binance #Cr...</td>\n",
       "      <td>2021-02-10 23:46:39</td>\n",
       "      <td>2021-02-10</td>\n",
       "      <td>2021.00</td>\n",
       "      <td>Signal: $TFUEL       Bitcoin</td>\n",
       "      <td>0.00</td>\n",
       "      <td>0.00</td>\n",
       "      <td>neutro</td>\n",
       "    </tr>\n",
       "    <tr>\n",
       "      <th>20</th>\n",
       "      <td>$ADA Sky rocket 🔥🚀 #Patience 🔑\\n$1 Soon !!! \\n...</td>\n",
       "      <td>2021-02-10 23:46:23</td>\n",
       "      <td>2021-02-10</td>\n",
       "      <td>2021.00</td>\n",
       "      <td>$ADA Sky rocket 🔥🚀  🔑$1 Soon !!!    bitcoin</td>\n",
       "      <td>0.00</td>\n",
       "      <td>0.00</td>\n",
       "      <td>neutro</td>\n",
       "    </tr>\n",
       "    <tr>\n",
       "      <th>21</th>\n",
       "      <td>Forget all you know about #cryptocurrency \\nTh...</td>\n",
       "      <td>2021-02-10 23:46:17</td>\n",
       "      <td>2021-02-10</td>\n",
       "      <td>2021.00</td>\n",
       "      <td>Forget all you know about  These 6 coins are l...</td>\n",
       "      <td>0.30</td>\n",
       "      <td>0.20</td>\n",
       "      <td>positivo</td>\n",
       "    </tr>\n",
       "    <tr>\n",
       "      <th>22</th>\n",
       "      <td>$ADA Sky rocket 🔥🚀 #Patience 🔑\\n$1 Soon !!! \\n...</td>\n",
       "      <td>2021-02-10 23:45:20</td>\n",
       "      <td>2021-02-10</td>\n",
       "      <td>2021.00</td>\n",
       "      <td>$ADA Sky rocket 🔥🚀  🔑$1 Soon !!!    bitcoin</td>\n",
       "      <td>0.00</td>\n",
       "      <td>0.00</td>\n",
       "      <td>neutro</td>\n",
       "    </tr>\n",
       "    <tr>\n",
       "      <th>23</th>\n",
       "      <td>#Bitcoin’s Rally Signals the Rise of Digital A...</td>\n",
       "      <td>2021-02-10 23:45:03</td>\n",
       "      <td>2021-02-10</td>\n",
       "      <td>2021.00</td>\n",
       "      <td>Bitcoin’s Rally Signals the Rise of Digital As...</td>\n",
       "      <td>0.20</td>\n",
       "      <td>-0.20</td>\n",
       "      <td>negativo</td>\n",
       "    </tr>\n",
       "    <tr>\n",
       "      <th>24</th>\n",
       "      <td>The writing is on the wall, and you are ignori...</td>\n",
       "      <td>2021-02-10 23:44:57</td>\n",
       "      <td>2021-02-10</td>\n",
       "      <td>2021.00</td>\n",
       "      <td>The writing is on the wall, and you are ignori...</td>\n",
       "      <td>0.00</td>\n",
       "      <td>0.00</td>\n",
       "      <td>neutro</td>\n",
       "    </tr>\n",
       "    <tr>\n",
       "      <th>25</th>\n",
       "      <td>#Bitcoin #BTC #ADA #DOT Mastercard Will Let Me...</td>\n",
       "      <td>2021-02-10 23:44:43</td>\n",
       "      <td>2021-02-10</td>\n",
       "      <td>2021.00</td>\n",
       "      <td>Bitcoin    Mastercard Will Let Merchants Accep...</td>\n",
       "      <td>0.00</td>\n",
       "      <td>0.00</td>\n",
       "      <td>neutro</td>\n",
       "    </tr>\n",
       "    <tr>\n",
       "      <th>26</th>\n",
       "      <td>After @Tesla: @Twitter considers adding #bitco...</td>\n",
       "      <td>2021-02-10 23:44:02</td>\n",
       "      <td>2021-02-10</td>\n",
       "      <td>2021.00</td>\n",
       "      <td>After :  considers adding bitcoin to its balan...</td>\n",
       "      <td>0.00</td>\n",
       "      <td>0.00</td>\n",
       "      <td>neutro</td>\n",
       "    </tr>\n",
       "    <tr>\n",
       "      <th>27</th>\n",
       "      <td>$ASKO has been nothing short of a wild ride .....</td>\n",
       "      <td>2021-02-10 23:44:02</td>\n",
       "      <td>2021-02-10</td>\n",
       "      <td>2021.00</td>\n",
       "      <td>$ASKO has been nothing short of a wild ride .....</td>\n",
       "      <td>0.31</td>\n",
       "      <td>-0.14</td>\n",
       "      <td>negativo</td>\n",
       "    </tr>\n",
       "    <tr>\n",
       "      <th>28</th>\n",
       "      <td>Let's go $yfi... Let's make this happen before...</td>\n",
       "      <td>2021-02-10 23:42:49</td>\n",
       "      <td>2021-02-10</td>\n",
       "      <td>2021.00</td>\n",
       "      <td>Let's go $yfi... Let's make this happen before...</td>\n",
       "      <td>0.00</td>\n",
       "      <td>0.00</td>\n",
       "      <td>neutro</td>\n",
       "    </tr>\n",
       "    <tr>\n",
       "      <th>29</th>\n",
       "      <td>Binance is the #1 crypto trading platform for ...</td>\n",
       "      <td>2021-02-10 23:42:22</td>\n",
       "      <td>2021-02-10</td>\n",
       "      <td>2021.00</td>\n",
       "      <td>Binance is the  crypto trading platform for bo...</td>\n",
       "      <td>0.00</td>\n",
       "      <td>0.00</td>\n",
       "      <td>neutro</td>\n",
       "    </tr>\n",
       "  </tbody>\n",
       "</table>\n",
       "</div>"
      ],
      "text/plain": [
       "                                                 text           timestamp  \\\n",
       "0   Blue Ridge Bank shares halted by NYSE after #b... 2021-02-10 23:59:04   \n",
       "1   😎 Today, that's this #Thursday, we will do a \"... 2021-02-10 23:58:48   \n",
       "2   Guys evening, I have read this article about B... 2021-02-10 23:54:48   \n",
       "3   $BTC A big chance in a billion! Price: \\487264... 2021-02-10 23:54:33   \n",
       "4   This network is secured by 9 508 nodes as of t... 2021-02-10 23:54:06   \n",
       "5   💹 Trade #Crypto on #Binance \\n\\n📌 Enjoy #Cashb... 2021-02-10 23:53:30   \n",
       "6   &lt;'fire' &amp; 'man'&gt;\\n#Bitcoin #Crypto #... 2021-02-10 23:53:17   \n",
       "7   🔄 Prices update in $EUR (1 hour):\\n\\n$BTC   - ... 2021-02-10 23:52:42   \n",
       "8   #BTC #Bitcoin #Ethereum #ETH #Crypto #cryptotr... 2021-02-10 23:52:25   \n",
       "9   .@Tesla’s #bitcoin investment is revolutionary... 2021-02-10 23:52:08   \n",
       "10  Annnd #btc #Bitcoin is headed even higher now.... 2021-02-10 23:52:04   \n",
       "11  🔄 Prices update in $USDT (1 hour):\\n\\n$BTC - 4... 2021-02-10 23:51:25   \n",
       "12  Join our first virtual crypto meetup of 2021 -... 2021-02-10 23:50:59   \n",
       "13  #Bitcoin #BTC $BTC $GBTC $RIOT $MARA $ETH $ETH... 2021-02-10 23:50:30   \n",
       "14  ⬆️⬆️ $BTC BUYING PRESSURE ALERT 📈 Price tradin... 2021-02-10 23:50:02   \n",
       "15  Buy #Bitcoin with 5% LIFETIME cashback on fees... 2021-02-10 23:48:38   \n",
       "16  @naval #BTC is unconfiscatable \\n\\nAll roads l... 2021-02-10 23:48:37   \n",
       "17  $BTC A big chance in a million! Price: \\489863... 2021-02-10 23:47:32   \n",
       "18  #Bitcoin institutional demand accelerates in 2... 2021-02-10 23:47:13   \n",
       "19  Signal: $TFUEL\\n#TFUEL #ThetaFuel #Binance #Cr... 2021-02-10 23:46:39   \n",
       "20  $ADA Sky rocket 🔥🚀 #Patience 🔑\\n$1 Soon !!! \\n... 2021-02-10 23:46:23   \n",
       "21  Forget all you know about #cryptocurrency \\nTh... 2021-02-10 23:46:17   \n",
       "22  $ADA Sky rocket 🔥🚀 #Patience 🔑\\n$1 Soon !!! \\n... 2021-02-10 23:45:20   \n",
       "23  #Bitcoin’s Rally Signals the Rise of Digital A... 2021-02-10 23:45:03   \n",
       "24  The writing is on the wall, and you are ignori... 2021-02-10 23:44:57   \n",
       "25  #Bitcoin #BTC #ADA #DOT Mastercard Will Let Me... 2021-02-10 23:44:43   \n",
       "26  After @Tesla: @Twitter considers adding #bitco... 2021-02-10 23:44:02   \n",
       "27  $ASKO has been nothing short of a wild ride ..... 2021-02-10 23:44:02   \n",
       "28  Let's go $yfi... Let's make this happen before... 2021-02-10 23:42:49   \n",
       "29  Binance is the #1 crypto trading platform for ... 2021-02-10 23:42:22   \n",
       "\n",
       "         dates    year                                      tweets_limpos  \\\n",
       "0   2021-02-10 2021.00  Blue Ridge Bank shares halted by NYSE after bi...   \n",
       "1   2021-02-10 2021.00  😎 Today, that's this , we will do a \"🎬 Take 2\"...   \n",
       "2   2021-02-10 2021.00  Guys evening, I have read this article about B...   \n",
       "3   2021-02-10 2021.00  $BTC A big chance in a billion! Price: \\487264...   \n",
       "4   2021-02-10 2021.00  This network is secured by 9 508 nodes as of t...   \n",
       "5   2021-02-10 2021.00  💹 Trade  on  📌 Enjoy  10% of the Trading fee📌 ...   \n",
       "6   2021-02-10 2021.00               &lt;'fire' &amp; 'man'&gt;Bitcoin      \n",
       "7   2021-02-10 2021.00  🔄 Prices update in $EUR (1 hour):$BTC   - 3708...   \n",
       "8   2021-02-10 2021.00   Bitcoin     $RSR I know i told you guys the t...   \n",
       "9   2021-02-10 2021.00  .’s bitcoin investment is revolutionary for  b...   \n",
       "10  2021-02-10 2021.00       Annnd  Bitcoin is headed even higher now...    \n",
       "11  2021-02-10 2021.00  🔄 Prices update in $USDT (1 hour):$BTC - 44853...   \n",
       "12  2021-02-10 2021.00  Join our first virtual crypto meetup of 2021 -...   \n",
       "13  2021-02-10 2021.00  Bitcoin  $BTC $GBTC $RIOT $MARA $ETH $ETHE   $...   \n",
       "14  2021-02-10 2021.00  ⬆️⬆️ $BTC BUYING PRESSURE ALERT 📈 Price tradin...   \n",
       "15  2021-02-10 2021.00  Buy Bitcoin with 5% LIFETIME cashback on fees ...   \n",
       "16  2021-02-10 2021.00       is unconfiscatable All roads lead to Bitcoin   \n",
       "17  2021-02-10 2021.00  $BTC A big chance in a million! Price: \\489863...   \n",
       "18  2021-02-10 2021.00  Bitcoin institutional demand accelerates in 20...   \n",
       "19  2021-02-10 2021.00                      Signal: $TFUEL       Bitcoin    \n",
       "20  2021-02-10 2021.00      $ADA Sky rocket 🔥🚀  🔑$1 Soon !!!    bitcoin     \n",
       "21  2021-02-10 2021.00  Forget all you know about  These 6 coins are l...   \n",
       "22  2021-02-10 2021.00      $ADA Sky rocket 🔥🚀  🔑$1 Soon !!!    bitcoin     \n",
       "23  2021-02-10 2021.00  Bitcoin’s Rally Signals the Rise of Digital As...   \n",
       "24  2021-02-10 2021.00  The writing is on the wall, and you are ignori...   \n",
       "25  2021-02-10 2021.00  Bitcoin    Mastercard Will Let Merchants Accep...   \n",
       "26  2021-02-10 2021.00  After :  considers adding bitcoin to its balan...   \n",
       "27  2021-02-10 2021.00  $ASKO has been nothing short of a wild ride .....   \n",
       "28  2021-02-10 2021.00  Let's go $yfi... Let's make this happen before...   \n",
       "29  2021-02-10 2021.00  Binance is the  crypto trading platform for bo...   \n",
       "\n",
       "    subjetividade  polaridade sentimento  \n",
       "0            0.10        0.00     neutro  \n",
       "1            0.00        0.00     neutro  \n",
       "2            0.00        0.00     neutro  \n",
       "3            0.10        0.00     neutro  \n",
       "4            0.10        0.00     neutro  \n",
       "5            0.50        0.40   positivo  \n",
       "6            0.00        0.00     neutro  \n",
       "7            0.00        0.00     neutro  \n",
       "8            0.00        0.00     neutro  \n",
       "9            0.25       -0.06   negativo  \n",
       "10           0.50        0.25   positivo  \n",
       "11           0.00        0.00     neutro  \n",
       "12           0.33        0.25   positivo  \n",
       "13           0.00        0.00     neutro  \n",
       "14           0.00        0.00     neutro  \n",
       "15           0.00        0.00     neutro  \n",
       "16           0.00        0.00     neutro  \n",
       "17           0.10        0.00     neutro  \n",
       "18           0.00        0.00     neutro  \n",
       "19           0.00        0.00     neutro  \n",
       "20           0.00        0.00     neutro  \n",
       "21           0.30        0.20   positivo  \n",
       "22           0.00        0.00     neutro  \n",
       "23           0.20       -0.20   negativo  \n",
       "24           0.00        0.00     neutro  \n",
       "25           0.00        0.00     neutro  \n",
       "26           0.00        0.00     neutro  \n",
       "27           0.31       -0.14   negativo  \n",
       "28           0.00        0.00     neutro  \n",
       "29           0.00        0.00     neutro  "
      ]
     },
     "execution_count": 84,
     "metadata": {},
     "output_type": "execute_result"
    }
   ],
   "source": [
    "df_sent.head(30)"
   ]
  },
  {
   "cell_type": "code",
   "execution_count": 85,
   "id": "96b35599-1725-4d56-904b-f2fedc875e1d",
   "metadata": {},
   "outputs": [
    {
     "data": {
      "text/plain": [
       "positivo    1387419\n",
       "neutro      1130165\n",
       "negativo     312892\n",
       "Name: sentimento, dtype: int64"
      ]
     },
     "execution_count": 85,
     "metadata": {},
     "output_type": "execute_result"
    }
   ],
   "source": [
    "df_sent['sentimento'].value_counts()"
   ]
  },
  {
   "cell_type": "markdown",
   "id": "17f3cf84-0f8a-4c68-aae7-e36f0f4396c1",
   "metadata": {},
   "source": [
    "Vemos que a maior parte dos tweets são positivos e neutros. Vamos observar como os sentimentos mudam conforme os meses do ano."
   ]
  },
  {
   "cell_type": "code",
   "execution_count": 86,
   "id": "072b7430-6ad1-4f28-8ecf-7907bf85cd4a",
   "metadata": {},
   "outputs": [],
   "source": [
    "df_sent['mes']=df_sent['timestamp'].dt.month\n",
    "df_sent['data']=df_sent['year'].astype(str) +df_sent['mes'].astype(str)"
   ]
  },
  {
   "cell_type": "code",
   "execution_count": 90,
   "id": "0b7579cd-2d44-47c5-b9c6-06172947ebb8",
   "metadata": {},
   "outputs": [
    {
     "data": {
      "text/html": [
       "<div>\n",
       "<style scoped>\n",
       "    .dataframe tbody tr th:only-of-type {\n",
       "        vertical-align: middle;\n",
       "    }\n",
       "\n",
       "    .dataframe tbody tr th {\n",
       "        vertical-align: top;\n",
       "    }\n",
       "\n",
       "    .dataframe thead th {\n",
       "        text-align: right;\n",
       "    }\n",
       "</style>\n",
       "<table border=\"1\" class=\"dataframe\">\n",
       "  <thead>\n",
       "    <tr style=\"text-align: right;\">\n",
       "      <th></th>\n",
       "      <th>text</th>\n",
       "      <th>timestamp</th>\n",
       "      <th>dates</th>\n",
       "      <th>year</th>\n",
       "      <th>tweets_limpos</th>\n",
       "      <th>subjetividade</th>\n",
       "      <th>polaridade</th>\n",
       "      <th>sentimento</th>\n",
       "      <th>mes</th>\n",
       "      <th>data</th>\n",
       "    </tr>\n",
       "  </thead>\n",
       "  <tbody>\n",
       "    <tr>\n",
       "      <th>0</th>\n",
       "      <td>Blue Ridge Bank shares halted by NYSE after #b...</td>\n",
       "      <td>2021-02-10 23:59:04</td>\n",
       "      <td>2021-02-10</td>\n",
       "      <td>2021.00</td>\n",
       "      <td>Blue Ridge Bank shares halted by NYSE after bi...</td>\n",
       "      <td>0.10</td>\n",
       "      <td>0.00</td>\n",
       "      <td>neutro</td>\n",
       "      <td>2.00</td>\n",
       "      <td>2021.02.0</td>\n",
       "    </tr>\n",
       "    <tr>\n",
       "      <th>1</th>\n",
       "      <td>😎 Today, that's this #Thursday, we will do a \"...</td>\n",
       "      <td>2021-02-10 23:58:48</td>\n",
       "      <td>2021-02-10</td>\n",
       "      <td>2021.00</td>\n",
       "      <td>😎 Today, that's this , we will do a \"🎬 Take 2\"...</td>\n",
       "      <td>0.00</td>\n",
       "      <td>0.00</td>\n",
       "      <td>neutro</td>\n",
       "      <td>2.00</td>\n",
       "      <td>2021.02.0</td>\n",
       "    </tr>\n",
       "    <tr>\n",
       "      <th>2</th>\n",
       "      <td>Guys evening, I have read this article about B...</td>\n",
       "      <td>2021-02-10 23:54:48</td>\n",
       "      <td>2021-02-10</td>\n",
       "      <td>2021.00</td>\n",
       "      <td>Guys evening, I have read this article about B...</td>\n",
       "      <td>0.00</td>\n",
       "      <td>0.00</td>\n",
       "      <td>neutro</td>\n",
       "      <td>2.00</td>\n",
       "      <td>2021.02.0</td>\n",
       "    </tr>\n",
       "    <tr>\n",
       "      <th>3</th>\n",
       "      <td>$BTC A big chance in a billion! Price: \\487264...</td>\n",
       "      <td>2021-02-10 23:54:33</td>\n",
       "      <td>2021-02-10</td>\n",
       "      <td>2021.00</td>\n",
       "      <td>$BTC A big chance in a billion! Price: \\487264...</td>\n",
       "      <td>0.10</td>\n",
       "      <td>0.00</td>\n",
       "      <td>neutro</td>\n",
       "      <td>2.00</td>\n",
       "      <td>2021.02.0</td>\n",
       "    </tr>\n",
       "    <tr>\n",
       "      <th>4</th>\n",
       "      <td>This network is secured by 9 508 nodes as of t...</td>\n",
       "      <td>2021-02-10 23:54:06</td>\n",
       "      <td>2021-02-10</td>\n",
       "      <td>2021.00</td>\n",
       "      <td>This network is secured by 9 508 nodes as of t...</td>\n",
       "      <td>0.10</td>\n",
       "      <td>0.00</td>\n",
       "      <td>neutro</td>\n",
       "      <td>2.00</td>\n",
       "      <td>2021.02.0</td>\n",
       "    </tr>\n",
       "  </tbody>\n",
       "</table>\n",
       "</div>"
      ],
      "text/plain": [
       "                                                text           timestamp  \\\n",
       "0  Blue Ridge Bank shares halted by NYSE after #b... 2021-02-10 23:59:04   \n",
       "1  😎 Today, that's this #Thursday, we will do a \"... 2021-02-10 23:58:48   \n",
       "2  Guys evening, I have read this article about B... 2021-02-10 23:54:48   \n",
       "3  $BTC A big chance in a billion! Price: \\487264... 2021-02-10 23:54:33   \n",
       "4  This network is secured by 9 508 nodes as of t... 2021-02-10 23:54:06   \n",
       "\n",
       "        dates    year                                      tweets_limpos  \\\n",
       "0  2021-02-10 2021.00  Blue Ridge Bank shares halted by NYSE after bi...   \n",
       "1  2021-02-10 2021.00  😎 Today, that's this , we will do a \"🎬 Take 2\"...   \n",
       "2  2021-02-10 2021.00  Guys evening, I have read this article about B...   \n",
       "3  2021-02-10 2021.00  $BTC A big chance in a billion! Price: \\487264...   \n",
       "4  2021-02-10 2021.00  This network is secured by 9 508 nodes as of t...   \n",
       "\n",
       "   subjetividade  polaridade sentimento  mes       data  \n",
       "0           0.10        0.00     neutro 2.00  2021.02.0  \n",
       "1           0.00        0.00     neutro 2.00  2021.02.0  \n",
       "2           0.00        0.00     neutro 2.00  2021.02.0  \n",
       "3           0.10        0.00     neutro 2.00  2021.02.0  \n",
       "4           0.10        0.00     neutro 2.00  2021.02.0  "
      ]
     },
     "execution_count": 90,
     "metadata": {},
     "output_type": "execute_result"
    }
   ],
   "source": [
    "df_sent.head()"
   ]
  },
  {
   "cell_type": "code",
   "execution_count": 91,
   "id": "f4f98c4b-2e5c-4c0e-b0dd-2c21fcf7d5e1",
   "metadata": {},
   "outputs": [
    {
     "data": {
      "image/png": "[encoded data removed]",
      "text/plain": [
       "<Figure size 1296x432 with 1 Axes>"
      ]
     },
     "metadata": {
      "needs_background": "light"
     },
     "output_type": "display_data"
    }
   ],
   "source": [
    "sentimentos_graf = df_sent.groupby(by=['data','sentimento'])['sentimento'].agg(['count'])\n",
    "sentimentos_graf_pivot = sentimentos_graf.pivot_table(index='sentimento',columns='data',values='count')\n",
    "sentimentos_graf_pivot.plot.bar(figsize=(18,6))\n",
    "plt.show()"
   ]
  },
  {
   "cell_type": "markdown",
   "id": "5add5b50",
   "metadata": {},
   "source": [
    "### <a name=conclusao_sentimento>**Conclusão Análise de Sentimentos**</a>\n",
    "[Voltar ao índice](#indice)"
   ]
  },
  {
   "cell_type": "markdown",
   "id": "3d142574",
   "metadata": {},
   "source": [
    "Podemos concluir que:\n",
    "* Os sentimentos se comportam de forma parecida: nos meses que o sentimento positivo aumenta, também aumentaram os neutros e negativos;\n",
    "* No decorrer do tempo, a quantidade de tweets foi aumentando e os sentimentos mantiveram uma relação semelhante."
   ]
  },
  {
   "cell_type": "code",
   "execution_count": null,
   "id": "c9eda781-4f04-4057-97ba-16d109642667",
   "metadata": {},
   "outputs": [],
   "source": []
  }
 ],
 "metadata": {
  "kernelspec": {
   "display_name": "Python 3 (ipykernel)",
   "language": "python",
   "name": "python3"
  },
  "language_info": {
   "codemirror_mode": {
    "name": "ipython",
    "version": 3
   },
   "file_extension": ".py",
   "mimetype": "text/x-python",
   "name": "python",
   "nbconvert_exporter": "python",
   "pygments_lexer": "ipython3",
   "version": "3.10.4"
  },
  "toc-autonumbering": false,
  "toc-showcode": false,
  "toc-showmarkdowntxt": false
 },
 "nbformat": 4,
 "nbformat_minor": 5
}
